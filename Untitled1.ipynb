{
  "nbformat": 4,
  "nbformat_minor": 0,
  "metadata": {
    "colab": {
      "name": "Untitled1.ipynb",
      "provenance": [],
      "authorship_tag": "ABX9TyPYEl5y2yvI2wI2iqOI4G2/",
      "include_colab_link": true
    },
    "kernelspec": {
      "name": "python3",
      "display_name": "Python 3"
    },
    "language_info": {
      "name": "python"
    }
  },
  "cells": [
    {
      "cell_type": "markdown",
      "metadata": {
        "id": "view-in-github",
        "colab_type": "text"
      },
      "source": [
        "<a href=\"https://colab.research.google.com/github/Bhagyasrigudala/python-lab/blob/main/Untitled1.ipynb\" target=\"_parent\"><img src=\"https://colab.research.google.com/assets/colab-badge.svg\" alt=\"Open In Colab\"/></a>"
      ]
    },
    {
      "cell_type": "code",
      "metadata": {
        "id": "9BK03h19uo8c"
      },
      "source": [
        ""
      ],
      "execution_count": null,
      "outputs": []
    },
    {
      "cell_type": "code",
      "metadata": {
        "id": "H3J7miLKdRjF"
      },
      "source": [
        ""
      ],
      "execution_count": null,
      "outputs": []
    },
    {
      "cell_type": "markdown",
      "metadata": {
        "id": "esxZNB7_uxrf"
      },
      "source": [
        "\n",
        "\n",
        "     NAME:BHAGYA SRI.GUDALA\n",
        "     REG.NO: 19A21A0584\n",
        "     SEC:CSE-B\n",
        "     "
      ]
    },
    {
      "cell_type": "markdown",
      "metadata": {
        "id": "DYPDyv9rvRAn"
      },
      "source": [
        ""
      ]
    },
    {
      "cell_type": "markdown",
      "metadata": {
        "id": "zAUzke6dvRD7"
      },
      "source": [
        "EXERCISE-1-BASICS\n",
        " \n",
        " \n",
        " \n",
        " \n",
        "  A)WRITE PROGRAM IN INTERACTIVE,INTERPRETER,PYTHON SCRIPT MODE.\n",
        " \n",
        " AIM:\n",
        "a) Running instructions in Interactive interpreter and a Python Script\n",
        "DESCRIPTION:\n",
        "Python is a high-level, interpreted, interactive and object-oriented scripting language. Python is \n",
        "designed to be highly readable. It uses English keywords frequently where as other languages \n",
        "use punctuation, and it has fewer syntactical constructions than other languages.\n",
        "Python is Interpreted \n",
        "Python is Interactive\n",
        "Python is Object-Oriented\n",
        "Python is a Beginner's Language\n",
        "Python Programming Running Python Scripts\n",
        "Running Python in THREE ways:\n",
        "a) Running Python Interpreter\n",
        "b) Running Python Scripts in IDLE\n",
        "c) Running python scripts in Command Prompt\n",
        "a) Running Python Interpreter: Python comes with an interactive interpreter. When you type \n",
        "python in your shell or command prompt, the python interpreter becomes active with a >>> \n",
        "prompt and waits for your commands\n",
        "b) Running Python Scripts in IDLE: . Go to File menu click on New File (CTRL+N) and write the \n",
        "code and save first.py\n",
        "c) Running python scripts in Command Prompt: ** **bold text · Before going to run we have to \n",
        "check the PATH in environment variables."
      ]
    },
    {
      "cell_type": "code",
      "metadata": {
        "colab": {
          "base_uri": "https://localhost:8080/"
        },
        "id": "BPqv2oQ7vibn",
        "outputId": "08fa1880-5ced-4c38-9231-fd368d934d63"
      },
      "source": [
        "a=60\n",
        "b=40\n",
        "a,b=b,a\n",
        "print(a,b)"
      ],
      "execution_count": null,
      "outputs": [
        {
          "output_type": "stream",
          "text": [
            "40 60\n"
          ],
          "name": "stdout"
        }
      ]
    },
    {
      "cell_type": "code",
      "metadata": {
        "colab": {
          "base_uri": "https://localhost:8080/"
        },
        "id": "w5w_1qf0vpbk",
        "outputId": "a2be20e2-c4b9-4a65-ab15-c905883e8f8d"
      },
      "source": [
        "a=input(\"enter a vlaue:\")\n",
        "b=input(\"enter b value:\")\n",
        "c=a+b;\n",
        "print(\"sum is \",c,sep=\"\\t\")\n",
        "c=int(a)+int(b)\n",
        "print(\"sum of {} and {} is : {}\".format(a,b,c))\n",
        "print(\"sum of %s and %s is:%d\"%(a,b,c))\n",
        "x=10\n",
        "y=123\n",
        "z=x+y;\n",
        "print(\"sum is\",z,sep='\\t' )"
      ],
      "execution_count": null,
      "outputs": [
        {
          "output_type": "stream",
          "text": [
            "enter a vlaue:10\n",
            "enter b value:20\n",
            "sum is \t1020\n",
            "sum of 10 and 20 is : 30\n",
            "sum of 10 and 20 is:30\n",
            "sum is\t133\n"
          ],
          "name": "stdout"
        }
      ]
    },
    {
      "cell_type": "markdown",
      "metadata": {
        "id": "5tj8b6cOXK1o"
      },
      "source": [
        "\n",
        "AIM:\n",
        "b) Write a program to purposefully raise Indentation Error and Correct it\n",
        "DESCRIPTION:\n",
        "Indentation\n",
        "Python does not support braces to indicate blocks of code for class and function\n",
        "definitions or flow control.\n",
        "Blocks of code are denoted by line indentation.\n",
        "All the continuous lines indented with same number of spaces would form a block.\n",
        "Python strictly follow indentation rules to indicate the blocks"
      ]
    },
    {
      "cell_type": "code",
      "metadata": {
        "colab": {
          "base_uri": "https://localhost:8080/"
        },
        "id": "NKrbOpx-vu5u",
        "outputId": "7d244335-68f7-4c51-9929-d93d1f31332c"
      },
      "source": [
        "print(\"welcome to python\")\n",
        "a=40\n",
        "b=50\n",
        "print(\"the value of a:\",a)\n",
        "print(\"the value of b :\",b)\n",
        "if(a>b):\n",
        "       print(\"a is big\");\n",
        "       print(\"ifbblock ends\")\n",
        "else:\n",
        "            print(\"b is big\")\n",
        "            print(\"elseblock ends\")"
      ],
      "execution_count": null,
      "outputs": [
        {
          "output_type": "stream",
          "text": [
            "welcome to python\n",
            "the value of a: 40\n",
            "the value of b : 50\n",
            "b is big\n",
            "elseblock ends\n"
          ],
          "name": "stdout"
        }
      ]
    },
    {
      "cell_type": "markdown",
      "metadata": {
        "id": "8Fgpgwc1vz39"
      },
      "source": [
        "EXERCISE-2\n",
        "Aim:\n",
        " \n",
        "A.COMPUTE DISTANCE BETWEEN TWO POINTS FROM PYTHOGOREAUS THEOREM\n",
        " \n",
        "Description:\n",
        "Taking Input From the User: A function is defined as a block of organized, reusable code used to \n",
        "perform a single, related action. Python has many built-in functions; you can also create your \n",
        "own.\n",
        "Python has an input function which lets you ask a user for some text input. You call this function \n",
        "to tell the program to stop and wait for the user to key in the data.\n",
        "In Python 2, you have a built-in function raw_input(), whereas in Python 3, you have input(). The \n",
        "program will resume once the user presses the ENTER or RETURN key.\n",
        "Input Function\n",
        "input(prompt=None,/).\n",
        "Read a string from standard input. The trailing newline is stripped.\n",
        "The prompt string, if given, is printed to standard output without a trailing newline before reading \n",
        "input.\n",
        "If the user hits EOF (*nix: Ctrl-D, Windows: Ctrl Z+Return), raise EOFError."
      ]
    },
    {
      "cell_type": "code",
      "metadata": {
        "colab": {
          "base_uri": "https://localhost:8080/"
        },
        "id": "ncxyY6ijv2Jb",
        "outputId": "95ee2dfe-e9fa-4782-b560-acfcc1fe37ec"
      },
      "source": [
        "\n",
        "x1=5\n",
        "x2=40\n",
        "y1=6\n",
        "y2=10\n",
        "z=(pow((x2-x1),2)+pow((y2-y1),2))**0.5\n",
        "print(z)"
      ],
      "execution_count": null,
      "outputs": [
        {
          "output_type": "stream",
          "text": [
            "35.22782990761707\n"
          ],
          "name": "stdout"
        }
      ]
    },
    {
      "cell_type": "markdown",
      "metadata": {
        "id": "4Zy_bCsCYEZ9"
      },
      "source": [
        "AIM:\n",
        "b) Write a program add.py that takes 2 numbers as command line arguments and prints its sum\n",
        "DESCRIPTION:\n",
        "The arguments that are given after the name of the program in the command line shell of\n",
        "the operating system are known as Command Line Arguments. Python provides various\n",
        "ways of dealing with these types of arguments. The three most common are:\n",
        "Using sys.argv\n",
        "Using getopt module\n",
        "Using argparse module\n",
        "Using sys.argv\n",
        "The sys module provides functions and variables used to manipulate different parts of the\n",
        "Python runtime environment. This module provides access to some variables used or\n",
        "maintained by the interpreter and to functions that interact strongly with the interpreter.\n",
        "One such variable is sys.argv which is a simple list structure. It’s main purpose are:\n",
        "It is a list of command line arguments.\n",
        "len(sys.argv) provides the number of command line arguments."
      ]
    },
    {
      "cell_type": "code",
      "metadata": {
        "colab": {
          "base_uri": "https://localhost:8080/"
        },
        "id": "KbwxjMpWv4rG",
        "outputId": "02a8e09d-0e1e-4ef6-f45b-249f9026e334"
      },
      "source": [
        "import math\n",
        "x1=int(input(\"enter  x1 value:\"))\n",
        "x2=int(input(\"enter  x2 value:\"))\n",
        "y1=int(input(\"enter  y1 value:\"))\n",
        "y2=int(input(\"enter  y2 value:\"))\n",
        "z=math.sqrt((x2-x1)*2+(y2-y1)*2)\n",
        "print(\"the distance between two points is :\",z)\n",
        "print(\"the distance between two points is :\",z,sep='\\t')\n",
        "print(\"the distance between ({}, {})and ({},{}) is  :{}\".format(x1,y1,x2,y2,z))\n",
        " \n",
        "print(\"the distance between (%d, %d)and (%d,%d) is  :%f\"%(x1,y1,x2,y2,z))"
      ],
      "execution_count": null,
      "outputs": [
        {
          "output_type": "stream",
          "text": [
            "enter  x1 value:16\n",
            "enter  x2 value:30\n",
            "enter  y1 value:45\n",
            "enter  y2 value:36\n",
            "the distance between two points is : 3.1622776601683795\n",
            "the distance between two points is :\t3.1622776601683795\n",
            "the distance between (16, 45)and (30,36) is  :3.1622776601683795\n",
            "the distance between (16, 45)and (30,36) is  :3.162278\n"
          ],
          "name": "stdout"
        }
      ]
    },
    {
      "cell_type": "code",
      "metadata": {
        "id": "IYQm5JRhwCq0"
      },
      "source": [
        ""
      ],
      "execution_count": null,
      "outputs": []
    },
    {
      "cell_type": "markdown",
      "metadata": {
        "id": "4anS_PZ3wH0X"
      },
      "source": [
        "EXCERSCISE-3\n",
        "AIM:\n",
        "a) Write a Program for checking whether the given number is an even number or not.\n",
        "DESCRIPTION:\n",
        "if..else Statement When there is an alternate operation in control flow, use an else statement\n",
        "alongside with if statement. The general format is\n",
        "if condition:\n",
        "\n"
      ]
    },
    {
      "cell_type": "code",
      "metadata": {
        "colab": {
          "base_uri": "https://localhost:8080/"
        },
        "id": "tlq20fE6wLrr",
        "outputId": "a3f4f09c-99a6-4062-c664-909d54d8df3f"
      },
      "source": [
        "n=int(input(\"enter a number:\"))\n",
        "if (n%2)==0:\n",
        "        print(\"given number is even\")\n",
        "else:\n",
        "      print(\"given number is odd\")"
      ],
      "execution_count": null,
      "outputs": [
        {
          "output_type": "stream",
          "text": [
            "enter a number:5\n",
            "given number is odd\n"
          ],
          "name": "stdout"
        }
      ]
    },
    {
      "cell_type": "markdown",
      "metadata": {
        "id": "QT-Xs7_YZOzv"
      },
      "source": [
        "b) Using a for loop, write a program that prints out the decimal equivalents of 1/2, 1/3, 1/4, . .\n",
        ".1/10\n",
        "DESCRIPTION\n",
        "For Loop: For loops can iterate over a sequence of numbers using the \"range\" and \"xrange\"\n",
        "functions. The difference between range and xrange is that the range function returns a new list\n",
        "with numbers of that specified range, whereas xrange returns an iterator, which is more eficient.\n",
        "The general format is\n",
        "for x in range(start,stop,step):\n",
        "statements\n"
      ]
    },
    {
      "cell_type": "code",
      "metadata": {
        "colab": {
          "base_uri": "https://localhost:8080/"
        },
        "id": "ZUQ_3bmWwQ6A",
        "outputId": "fa3eb032-1fe6-4533-9aa6-7987416fac40"
      },
      "source": [
        "n=int(input(\"enter a number:\"))\n",
        "for i in range(2,n):\n",
        "    de=1/i;\n",
        "    print(\"1/\",i,\"=\",de)"
      ],
      "execution_count": null,
      "outputs": [
        {
          "output_type": "stream",
          "text": [
            "enter a number:5\n",
            "1/ 2 = 0.5\n",
            "1/ 3 = 0.3333333333333333\n",
            "1/ 4 = 0.25\n"
          ],
          "name": "stdout"
        }
      ]
    },
    {
      "cell_type": "code",
      "metadata": {
        "id": "Vvhm9u0kwZxZ"
      },
      "source": [
        ""
      ],
      "execution_count": null,
      "outputs": []
    },
    {
      "cell_type": "markdown",
      "metadata": {
        "id": "oMk4hZWwZV-7"
      },
      "source": [
        "AIM:\n",
        "c) Write a program using a for loop that loops over a sequence. What is sequence?\n",
        "DESCRIPTION:\n",
        "For Loop: For loops can iterate over a sequence of numbers using the \"range\" and \"xrange\"\n",
        "functions. The difference between range and xrange is that the range function returns a new list\n",
        "with numbers of that specified range, whereas xrange returns an iterator, which is more eficient.\n",
        "The general format is\n",
        "for x in range(start,stop,step):\n",
        "statements\n"
      ]
    },
    {
      "cell_type": "code",
      "metadata": {
        "colab": {
          "base_uri": "https://localhost:8080/"
        },
        "id": "zO8PoPaWwZzX",
        "outputId": "2dcfda7e-9f22-4750-ee6f-dbd8630937a7"
      },
      "source": [
        "#program using a for a loop that loops over a sequence\n",
        "print(\"loop sequence\")\n",
        "num=[45,25,2,28,3,25]\n",
        "for i in num:\n",
        "    print(i)\n",
        "\n",
        "#string sequence\n",
        "print(\"string sequence\")\n",
        "days=[\"sun\",\"mon\",\"tue\",\"wed\",\"thur\",\"fri\",\"st\"]\n",
        "for d in days:\n",
        "    print(d)\n",
        "    \n",
        "#bothh sequence\n",
        "print(\"sequence\")\n",
        "arr=[123,\"abc\",5.6,'h',-33,\"xy\",True]\n",
        "for x in arr:\n",
        "      print(x)"
      ],
      "execution_count": null,
      "outputs": [
        {
          "output_type": "stream",
          "text": [
            "loop sequence\n",
            "45\n",
            "25\n",
            "2\n",
            "28\n",
            "3\n",
            "25\n",
            "string sequence\n",
            "sun\n",
            "mon\n",
            "tue\n",
            "wed\n",
            "thur\n",
            "fri\n",
            "st\n",
            "sequence\n",
            "123\n",
            "abc\n",
            "5.6\n",
            "h\n",
            "-33\n",
            "xy\n",
            "True\n"
          ],
          "name": "stdout"
        }
      ]
    },
    {
      "cell_type": "markdown",
      "metadata": {
        "id": "VpkLtJeRZlPc"
      },
      "source": [
        "AIM:\n",
        "D) Write a program using a while loop that asks the user for a number, and prints a\n",
        "countdownfrom that number to zero.\n",
        "DESCRIPTION:\n",
        "While Loop is used to execute a block of statements repeatedly until a given condition is\n",
        "satisfied. And when the condition becomes false, the line immediately after the loop in the\n",
        "program is executed. While loop falls under the category of indefinite iteration\n",
        "The syntax for a while loop is:\n",
        "while [ condition]"
      ]
    },
    {
      "cell_type": "code",
      "metadata": {
        "colab": {
          "base_uri": "https://localhost:8080/"
        },
        "id": "Naq4I22xwcz4",
        "outputId": "2b23d96c-27b3-4bbc-d34e-0bbd4c87fd96"
      },
      "source": [
        "#program using a for a loop that loops over a sequence\n",
        "print(\"loop sequence\")\n",
        "num=[45,25,2,28,3,25]\n",
        "for i in num:\n",
        "    print(i)\n",
        "\n",
        "#string sequence\n",
        "print(\"string sequence\")\n",
        "days=[\"sun\",\"mon\",\"tue\",\"wed\",\"thur\",\"fri\",\"st\"]\n",
        "for d in days:\n",
        "    print(d)\n",
        "    \n",
        "#bothh sequence\n",
        "print(\"sequence\")\n",
        "arr=[123,\"abc\",5.6,'h',-33,\"xy\",True]\n",
        "for x in arr:\n",
        "      print(x)"
      ],
      "execution_count": null,
      "outputs": [
        {
          "output_type": "stream",
          "text": [
            "loop sequence\n",
            "45\n",
            "25\n",
            "2\n",
            "28\n",
            "3\n",
            "25\n",
            "string sequence\n",
            "sun\n",
            "mon\n",
            "tue\n",
            "wed\n",
            "thur\n",
            "fri\n",
            "st\n",
            "sequence\n",
            "123\n",
            "abc\n",
            "5.6\n",
            "h\n",
            "-33\n",
            "xy\n",
            "True\n"
          ],
          "name": "stdout"
        }
      ]
    },
    {
      "cell_type": "markdown",
      "metadata": {
        "id": "S1sfyVXiwigJ"
      },
      "source": [
        ""
      ]
    },
    {
      "cell_type": "markdown",
      "metadata": {
        "id": "kYBERGcbwii2"
      },
      "source": [
        "EXCERCISE-4\n",
        "\n",
        "AIM:\n",
        "a) Find the sum of all the primes below two million. Each new term in the Fibonacci sequence is\n",
        "generated by adding the previous two terms. Bystarting with 1 and 2, the first 10 terms will be: 1,\n",
        "2, 3, 5, 8, 13, 21, 34, 55, 89, ...\n",
        "DESCRIPTION:\n",
        "A Fibonacci sequence is the integer sequence of 0, 1, 1, 2, 3, 5, 8....\n",
        "The first two terms are 0 and 1. All other terms are obtained by adding the preceding two terms.\n",
        "This means to say the nth term is the sum of (n-1)th and (n-2)th term\n",
        "Here, we store the number of terms in nterms. We initialize the first term to 0 and the second\n",
        "term to 1.\n",
        "If the number of terms is more than 2, we use a while loop to find the next term in the sequence\n",
        "by adding the preceding two terms. We then interchange the variables (update it) and continue\n",
        "on with the process.\n"
      ]
    },
    {
      "cell_type": "code",
      "metadata": {
        "colab": {
          "base_uri": "https://localhost:8080/"
        },
        "id": "MPpkKh28wlBb",
        "outputId": "4ac4aac9-6fba-4ece-e3a7-d2d4ce78299c"
      },
      "source": [
        "n=int(input(\"enter a num:\"))\n",
        "a=0\n",
        "b=1\n",
        "c=a+b\n",
        "st=\"\"\n",
        "sum=0\n",
        "con=0\n",
        "while con<=n:\n",
        "    st+=\"\"+str(c)\n",
        "    sum+=c        \n",
        "    a=b\n",
        "    b=c \n",
        "    c=a+b\n",
        "    con+=1\n",
        "print(st)\n",
        "print(\"sum of fibonacii series:\",sum)"
      ],
      "execution_count": null,
      "outputs": [
        {
          "output_type": "stream",
          "text": [
            "enter a num:4\n",
            "12358\n",
            "sum of fibonacii series: 19\n"
          ],
          "name": "stdout"
        }
      ]
    },
    {
      "cell_type": "markdown",
      "metadata": {
        "id": "VT3o0OCdZ7TN"
      },
      "source": [
        "AIM:\n",
        "b) By considering the terms in the Fibonacci sequence whose values do not exceed four\n",
        "million,find the sum of the even-valued terms.\n",
        "DESCRIPTION:\n",
        "A Fibonacci sequence is the integer sequence of 0, 1, 1, 2, 3, 5, 8....\n",
        "The first two terms are 0 and 1. All other terms are obtained by adding the preceding two terms.\n",
        "This means to say the nth term is the sum of (n-1)th and (n-2)th term\n",
        "Here, we store the number of terms in nterms. We initialize the first term to 0 and the second\n",
        "term to 1.\n",
        "If the number of terms is more than 2, we use a while loop to find the next term in the sequence\n",
        "by adding the preceding two terms. We then interchange the variables (update it) and continue\n",
        "on with the process."
      ]
    },
    {
      "cell_type": "code",
      "metadata": {
        "colab": {
          "base_uri": "https://localhost:8080/"
        },
        "id": "Mpu0RHUKwqAr",
        "outputId": "75280798-3850-466d-a747-28f4b37e8c12"
      },
      "source": [
        "n=int(input(\"enter a number:\"))\n",
        "c=0\n",
        "\n",
        "\n",
        "st=\"\"\n",
        "sum=0\n",
        "\n",
        "for i in range(2,n):\n",
        " state=True\n",
        "for j in range(2,i):\n",
        " if(i%j==0):\n",
        "        state=False\n",
        "        break;\n",
        "if state==True:\n",
        "            st+=\"\"+str(i)\n",
        "            c+=1\n",
        "            sum+=i\n",
        "\n",
        "print(\"prime numbers\")\n",
        "print(st)\n",
        "\n",
        "print(\"total count of the prime numbers:\",c)\n",
        "print(\"sum of all prime nums:\",sum)"
      ],
      "execution_count": null,
      "outputs": [
        {
          "output_type": "stream",
          "text": [
            "enter a number:4\n",
            "prime numbers\n",
            "3\n",
            "total count of the prime numbers: 1\n",
            "sum of all prime nums: 3\n"
          ],
          "name": "stdout"
        }
      ]
    },
    {
      "cell_type": "markdown",
      "metadata": {
        "id": "HajWjXIHwveE"
      },
      "source": [
        "EXCERCISE-5\n",
        "\n",
        "DS\n",
        "AIM:\n",
        "a) Write a program to count the numbers of characters in the string and store them in\n",
        "adictionary data structure\n",
        "DESCRIPTION:\n",
        "Given a string, the task is to find the frequencies of all the characters in that string and return a\n",
        "dictionary with key as the character and its value as its frequency in the given string.\n",
        "Method #1 : Naive method\n",
        "Simply iterate through the string and form a key in dictionary of newly occurred element or if\n",
        "element is already occurred, increase its value by 1.\n",
        "Method #2 : Using collections.Counter()\n",
        "The most suggested method that could be used to find all occurrences is this method, this\n",
        "actually gets all element frequency and could also be used to print single element frequency if\n",
        "required.\n"
      ]
    },
    {
      "cell_type": "code",
      "metadata": {
        "colab": {
          "base_uri": "https://localhost:8080/"
        },
        "id": "-p5N2pSYwzh8",
        "outputId": "49f53720-f4d5-45be-8482-219e8ca1e577"
      },
      "source": [
        "name=input(\"enter a name:\")\n",
        "dic={}\n",
        "for ch in name:\n",
        "    keys=dic.keys()\n",
        "\n",
        "    if(ch in keys):\n",
        "        dic[ch]=dic[ch]+1\n",
        "    else:\n",
        "        dic[ch]=1\n",
        "\n",
        "print(\"dictinarry is:\",dic)"
      ],
      "execution_count": null,
      "outputs": [
        {
          "output_type": "stream",
          "text": [
            "enter a name:BHAGYA\n",
            "dictinarry is: {'B': 1, 'H': 1, 'A': 2, 'G': 1, 'Y': 1}\n"
          ],
          "name": "stdout"
        }
      ]
    },
    {
      "cell_type": "code",
      "metadata": {
        "id": "-QV_OwyQw6im"
      },
      "source": [
        ""
      ],
      "execution_count": null,
      "outputs": []
    },
    {
      "cell_type": "markdown",
      "metadata": {
        "id": "wTuL9kz9aPyk"
      },
      "source": [
        "AIM:\n",
        "b) Write a program to use split and join methods in the string and trace a birthday with\n",
        "adictionary data structure\n",
        "DESCRIPTION:\n",
        "Python program to Split a string based on a delimiter and join the string using another delimiter.\n",
        "Split a string can be quite useful sometimes, especially when you need only certain parts of\n",
        "strings. A simple yet effective example is splitting the First-name and Last-name of a person.\n",
        "Another application is CSV(Comma Separated Files). We use split to get data from CSV and join\n",
        "to write data to CSV.\n",
        "In Python, we can use the function split() to split a string and\n",
        "join() to join a string."
      ]
    },
    {
      "cell_type": "code",
      "metadata": {
        "colab": {
          "base_uri": "https://localhost:8080/"
        },
        "id": "4e7_Sa9Jw6kJ",
        "outputId": "a3443137-dfe5-4073-a428-96e3c6cb897a"
      },
      "source": [
        "dob={\"BHAGYA\":\"24-08-2002\",\"UMA\":\"23-01-2002\"}\n",
        "name=input(\"enter which person dob u want:\")\n",
        "l=name.split()\n",
        "birth=\"\"\n",
        "for i in l:\n",
        "    if i in dob.keys():\n",
        "        pers=i\n",
        "\n",
        "print(\"\".join([pers,\"birthdayis:\",dob[pers]]))"
      ],
      "execution_count": null,
      "outputs": [
        {
          "output_type": "stream",
          "text": [
            "enter which person dob u want:BHAGYA\n",
            "BHAGYAbirthdayis:24-08-2002\n"
          ],
          "name": "stdout"
        }
      ]
    },
    {
      "cell_type": "markdown",
      "metadata": {
        "id": "rToDLWysxXle"
      },
      "source": [
        "EXERCISE-6\n",
        "\n",
        "DS - Continued\n",
        "AIM:\n",
        "a) Write a program combinelists that combines these lists into a dictionary.\n",
        "DESCRIPTION:\n",
        "For this, simply declare a dictionary, and then run nested loop for both the lists and assign key\n",
        "and value pairs to from list values to dictionary.\n",
        "Most pythonic and generic method to perform this very task is by using zip(). This function pairs\n",
        "the list element with other list element at corresponding index in form of key-value pairs.\n"
      ]
    },
    {
      "cell_type": "code",
      "metadata": {
        "id": "YnUjtdO0xaPr"
      },
      "source": [
        ""
      ],
      "execution_count": null,
      "outputs": []
    },
    {
      "cell_type": "code",
      "metadata": {
        "colab": {
          "base_uri": "https://localhost:8080/"
        },
        "id": "fUquIlVbxaRl",
        "outputId": "49952327-a7cb-4d70-cc80-b736b728a65f"
      },
      "source": [
        "sub=[\"daa\",\"os\",\"dbms\",\"p&s\",\"ppl\",\"se\"]\n",
        "marks=[85,96,75,65,83,56]\n",
        "print(sub)\n",
        "print(marks)\n",
        "dic=dict(zip(sub,marks))\n",
        "print(dic)"
      ],
      "execution_count": null,
      "outputs": [
        {
          "output_type": "stream",
          "text": [
            "['daa', 'os', 'dbms', 'p&s', 'ppl', 'se']\n",
            "[85, 96, 75, 65, 83, 56]\n",
            "{'daa': 85, 'os': 96, 'dbms': 75, 'p&s': 65, 'ppl': 83, 'se': 56}\n"
          ],
          "name": "stdout"
        }
      ]
    },
    {
      "cell_type": "markdown",
      "metadata": {
        "id": "exbNczwCamRf"
      },
      "source": [
        "AIM:\n",
        "b) Write a program to count frequency of characters in a given file. Can you use\n",
        "characterfrequency to tell whether the given file is a Python program file, C program file or a text\n",
        "file?\n",
        "DESCRIPTION:\n",
        "approaches to count the number of times a letter appears in a text file in Python.\n",
        "Method 1: Using the in-built count() method.\n",
        "Approach:\n",
        "1. Read the file.\n",
        "2. Store the content of the file in a variable.\n",
        "3. Use the count() method with the argument as a letter whose frequency is required.\n",
        "4. Display the count of the letter."
      ]
    },
    {
      "cell_type": "code",
      "metadata": {
        "id": "Kc1yuk6AxddP"
      },
      "source": [
        ""
      ],
      "execution_count": null,
      "outputs": []
    },
    {
      "cell_type": "code",
      "metadata": {
        "colab": {
          "base_uri": "https://localhost:8080/",
          "height": 129
        },
        "id": "x-FEV9rTxde3",
        "outputId": "0b752639-c306-4c20-b98a-bb02f4a0deec"
      },
      "source": [
        "filetypes=['.py','.c','.txt']\n",
        "fn=input(\"Enter the file name:\")\n",
        "f=open(fn,\"r\")\n",
        "count=dict()\n",
        "print(\"Given file is\",end=\"\")\n",
        "for ft in filetypes:\n",
        "if(ft in fn):\n",
        "if(ft=='.py'):\n",
        "print(\"Python file\")\n",
        "elif(ft=='.c'):\n",
        "print(\"C File\")\n",
        "elif(ft=='.txt'):\n",
        "print(\"Text File\")\n",
        "for line in f:\n",
        "for ch in line:\n",
        "if ch in count:\n",
        "count[ch]=count[ch]+1\n",
        "else:\n",
        "count[ch]=1\n",
        "print(count)\n",
        "f.close()\n",
        "\n"
      ],
      "execution_count": null,
      "outputs": [
        {
          "output_type": "error",
          "ename": "IndentationError",
          "evalue": "ignored",
          "traceback": [
            "\u001b[0;36m  File \u001b[0;32m\"<ipython-input-3-080d360b804c>\"\u001b[0;36m, line \u001b[0;32m7\u001b[0m\n\u001b[0;31m    if(ft in fn):\u001b[0m\n\u001b[0m     ^\u001b[0m\n\u001b[0;31mIndentationError\u001b[0m\u001b[0;31m:\u001b[0m expected an indented block\n"
          ]
        }
      ]
    },
    {
      "cell_type": "markdown",
      "metadata": {
        "id": "0N4myZkhxioK"
      },
      "source": [
        "EXCERCISE-7\n",
        "AIM\n",
        "a) Write a program to print each line of a file in reverse order.\n",
        "DESCRIPTION:\n",
        "The file handling plays an important role when the data needs to be stored permanently into the\n",
        "file. A file is a named location on disk to store related information. We can access the stored\n",
        "information (non-volatile) after the program termination. In Python, files are treated in two\n",
        "modes as text or binary. The file may be in the text or binary format, and each line of a file is\n",
        "ended with the special character. Hence, a file operation can be done in the following order.\n",
        "□ Open a file\n",
        "□ Read or write - Performing operation\n",
        "□ Close the file"
      ]
    },
    {
      "cell_type": "code",
      "metadata": {
        "id": "jbcTxyQrcECD"
      },
      "source": [
        "obj=open(\"abc.txt\",\"r\")\n",
        "if obj:\n",
        "st=obj.read()\n",
        "print(\"File content is:\\n\",st)\n",
        "obj.close()\n",
        "print()\n",
        "lines=st.split( \\n )\n",
        "for ln in lines:\n",
        "i=len(ln)-1\n",
        "while(i>=0):\n",
        "print(ln[i],end=\"\")\n",
        "i=i-1\n",
        "print()\n"
      ],
      "execution_count": null,
      "outputs": []
    },
    {
      "cell_type": "markdown",
      "metadata": {
        "id": "z6C8DhrRcRWp"
      },
      "source": [
        "b) Write a program to compute the number of characters, words and lines in a file\n",
        "DESCRIPTION:\n",
        "Given a text file fname, the task is to count the total number of characters, words, spaces and\n",
        "lines in the file.\n",
        "As we know, Python provides multiple in-built features and modules for handling files. Let’s\n",
        "discuss different ways to calculate total number of characters, words, spaces and lines in a file\n",
        "using Python.\n",
        "Method #1: Naive approach\n",
        "In this approach, the idea is to solve the task by developing our own logic. Without using any\n",
        "built-in function of Python, the total number of characters, words, spaces and lines of the file will\n",
        "be calculated.\n",
        "Method #2: Using some built-in functions and OS module functions\n",
        "In this approach, the idea is to use the os.linesep() method of OS module to separate the lines\n",
        "on the current platform. When the interpreter’s scanner encounter os.linesep it replaces it with\n",
        "\\n character. After that strip() and split() functions will be used to carry out the task."
      ]
    },
    {
      "cell_type": "code",
      "metadata": {
        "id": "kOV0DjPzxnCT"
      },
      "source": [
        "obj=open(\"sam.txt\",\"r\")\n",
        "if obj:\n",
        "    st=obj.read()\n",
        "    print(\"file content is:\")\n",
        "obj.close()\n",
        "print()\n",
        "nc=nw=nl=0\n",
        "for ch in st:\n",
        "    if(ch):\n",
        "        nc=nc+1\n",
        "    if(ch==''):\n",
        "        nw=nw+1\n",
        "    if(ch=='\\n'):\n",
        "        nl=nl+1\n",
        "\n",
        "print(\"number of characters in a file:\",nc)\n",
        "print(\"number of words in file is:\",nw)\n",
        "print(\"number of lines ins file:\",nl)"
      ],
      "execution_count": null,
      "outputs": []
    },
    {
      "cell_type": "markdown",
      "metadata": {
        "id": "ld-CwLBtxrp5"
      },
      "source": [
        "EXCERCISE-8\n",
        "\n",
        "8 Functions'\n",
        "AIM:\n",
        "a) Write a function ball collide that takes two balls as parameters and computes if they\n",
        "arecolliding. Your function should return a Boolean representing whether or not the balls\n",
        "arecolliding.\n",
        "Hint: Represent a ball on a plane as a tuple of (x, y, r), r being the radius If (distance between two\n",
        "balls centers) <= (sum of their radii) then (they are colliding)\n",
        "DESCRIPTION\n",
        "Functions A function in python is a block of code that is defined for doing frequent operations in\n",
        "a particular task. The general format is\n",
        "def Functionname(arguments):\n",
        "Statements\n",
        "Calling a Function:\n",
        "A function can be called by its name followed by arguments within parenthesis.\n",
        "function()\n"
      ]
    },
    {
      "cell_type": "code",
      "metadata": {
        "id": "-ZwGyoSAxuO3"
      },
      "source": [
        "import math\n",
        "def ballcollide(b1tup,b2tup):\n",
        "    x1=b1tup[0]\n",
        "    y1=b1tup[1]\n",
        "    x2=b2tup[0]\n",
        "    y2=b2tup[1]\n",
        "    r1=b1tup[2]\n",
        "    r2=b2tup[2]\n",
        "\n",
        "\n",
        "    d=math.sqrt((x2-x1)*2+(y2-y1)*2)\n",
        "    if(d<=r1+r2):\n",
        "      return True\n",
        "    else:\n",
        "        return False\n",
        "\n",
        "\n",
        "ball1=(1,2,3)\n",
        "ball2=(3,2,1)\n",
        "c=ballcollide(ball1,ball2)\n",
        "if(c):\n",
        "    print(\"balls are collided\")\n",
        "else:\n",
        "    print(\"ball are not collided\")"
      ],
      "execution_count": null,
      "outputs": []
    },
    {
      "cell_type": "markdown",
      "metadata": {
        "id": "6YNFEhKdcjMk"
      },
      "source": [
        "AIM:\n",
        "b) Find mean, median, mode for the given set of numbers in a list\n",
        "DESCRIPTION\n",
        "Mean : The mean is the average of all numbers and is sometimes called the arithmetic mean.\n",
        "This code calculates Mean or Average of a list containing numbers:\n",
        "Median : The median is the middle number in a group of numbers. This code calculates Median\n",
        "of a list containing numbers:\n",
        "Mode : The mode is the number that occurs most often within a set of numbers. This code\n",
        "calculates Mode of a list containing numbers:\n",
        "We will import Counter from collections library which is a built-in module in Python 2 and 3. This\n",
        "module will help us count duplicate elements in a list. We define a list of numbers and calculate\n",
        "the length of the list. We then call Counter (a dict subclass) which helps to count hashable\n",
        "objects, and we then convert it to dict object. We then initialize a list with a For Loop to compare\n",
        "all the dict values (Number of elements) to the max of all dict values (count of most occurring\n",
        "element) and it returns all the elements equal to max count. If the elements returned are equal to\n",
        "the number of total elements in a list then we print out ‘No mode’, else we print out the modes\n",
        "returned.\n"
      ]
    },
    {
      "cell_type": "code",
      "metadata": {
        "id": "UO7t5bAfxylE"
      },
      "source": [
        "def mean(numlist):\n",
        "    return sum(numlist)/len(numlist)\n",
        "def median(numlist):\n",
        "    numlist.sort()\n",
        "    print(numlist)\n",
        "    n=len(numlist)\n",
        "    print(\"total\",n)\n",
        "    mid=n//2\n",
        "    print(\"mid:\",mid)\n",
        "    if(n%2==0):\n",
        "        return numlist[mid]\n",
        "    else:\n",
        "        return (numlist[mid-1]+numlist[mid])/2\n",
        "def mode(numlist):\n",
        "    numlist.sort()\n",
        "    temp=[]\n",
        "    i=0\n",
        "    while i<len(numlist):\n",
        "        temp.append(numlist.count(numlist[i]))\n",
        "        i+=1\n",
        "    dic=dict(zip(numlist,temp))\n",
        "    modes={k for k, v in dic.items() if(v==max(temp))}\n",
        "    return modes\n",
        "list=[1,1,2,2,3,4,5,3,3]\n",
        "print(\"mean of guive list:\",mean(list))\n",
        "print(\"median of guive list:\",median(list))\n",
        " \n",
        "print(\"mode of guive list:\",mode(list))"
      ],
      "execution_count": null,
      "outputs": []
    },
    {
      "cell_type": "markdown",
      "metadata": {
        "id": "Z1DicqJYx2LV"
      },
      "source": [
        "ExerciSE-9\n",
        "AIM:\n",
        "a) Write a function nearly equal to test whether two strings are nearly\n",
        "DESCRIPTION:\n",
        "strlen() function is used to check wether the two string are nearly equal or not by basis of the\n",
        "Length of those Strings\n",
        "len() function is an inbuilt function in Python programming language that returns the length of\n",
        "the string.\n",
        "len() is a built-in function in python.You can use the len() to get the length of the given string,\n",
        "array, list, tuple, dictionary, etc.\n",
        "Value: the given value you want the length of.\n",
        "Return value a return an integer value i.e. the length of the given string, or array, or list, or\n",
        "collections.\n",
        "Syntax:\n"
      ]
    },
    {
      "cell_type": "code",
      "metadata": {
        "id": "u_rp_F1ex4fO"
      },
      "source": [
        ""
      ],
      "execution_count": null,
      "outputs": []
    },
    {
      "cell_type": "code",
      "metadata": {
        "colab": {
          "base_uri": "https://localhost:8080/"
        },
        "id": "CPvqSltEx4gx",
        "outputId": "30c8c5be-a677-416c-b4b2-3b3a53aa8bea"
      },
      "source": [
        "def nearlyeq(str1,str2):\n",
        "    count=0\n",
        "    i=j=0\n",
        "    ss=0\n",
        "    while(i<len(str1)and j<len(str2)):\n",
        "        if(str1[i]!=str2[j]):\n",
        "            count+=1\n",
        "        if(len(str1)>len(str2)):\n",
        "            i+=1\n",
        "\n",
        "        elif(len(str1)==len(str2)):\n",
        "            pass\n",
        "        else:\n",
        "            i-=1     \n",
        "        if(count>1):\n",
        "             ss-=1\n",
        "             \n",
        "        i+=1\n",
        "        j+=1\n",
        "        if(count<2):\n",
        "             ss+=1\n",
        "\n",
        "    return ss\n",
        "s1=input(\"enter a string 1:\")\n",
        "s2=input(\"enter the string2:\")\n",
        "t=nearlyeq(s1,s2)\n",
        "if(t>1):\n",
        "    print(\"neraly equal0\")\n",
        "else:\n",
        "    print(\"not nearly equal\")"
      ],
      "execution_count": null,
      "outputs": [
        {
          "output_type": "stream",
          "text": [
            "enter a string 1:1\n",
            "enter the string2:10000\n",
            "not nearly equal\n"
          ],
          "name": "stdout"
        }
      ]
    },
    {
      "cell_type": "code",
      "metadata": {
        "id": "-PNtZnXkdDxo"
      },
      "source": [
        "AIM:\n",
        "b) Write a function dup to find all duplicates in the list.\n",
        "DESCRIPTION:\n",
        "To check if a list contains any duplicate element follow the following steps,\n",
        "1. Add the contents of list in a set.\n",
        "2. Compare the size of set and list.\n",
        "If size of list & set is equal then it means no duplicates in list.\n",
        "3. If size of list & set are different then it means yes, there are duplicates in list."
      ],
      "execution_count": null,
      "outputs": []
    },
    {
      "cell_type": "code",
      "metadata": {
        "colab": {
          "base_uri": "https://localhost:8080/"
        },
        "id": "gpQMPqI1x_a6",
        "outputId": "e41360f7-de8a-46ac-adc8-d1b0faae5734"
      },
      "source": [
        "def dup(list):\n",
        "  list1=[]\n",
        "  for i in list:\n",
        "    count=list.count(i)\n",
        "    if(count>1 and (i not in list1)):\n",
        "        list1.append(i)\n",
        "        \n",
        "  print(\"the dups int he list are:\",list1)        \n",
        "list2=[1,2,1,2]\n",
        " \n",
        "dup(list2)"
      ],
      "execution_count": null,
      "outputs": [
        {
          "output_type": "stream",
          "text": [
            "the dups int he list are: [1, 2]\n"
          ],
          "name": "stdout"
        }
      ]
    },
    {
      "cell_type": "markdown",
      "metadata": {
        "id": "ykE9wx-cde5Z"
      },
      "source": [
        "AIM:\n",
        "c) Write a function unique to find all the unique elements of a list.\n",
        "DESCRIPTION:\n",
        "To find the unique in the list .There is a Specific Method i.e.,\n",
        "Method : Traversal of list\n",
        "Using traversal, we can traverse for every element in the list and check if the element is in the\n",
        "unique_list already if it is not over there, then we can append it in the unique_list.\n",
        "This is done using one for loop and other if statement which check if the value is in the unique\n",
        "list or not which is equivalent to another for loop"
      ]
    },
    {
      "cell_type": "code",
      "metadata": {
        "colab": {
          "base_uri": "https://localhost:8080/"
        },
        "id": "J4I4wurAyC8V",
        "outputId": "aecca6a7-d2d4-449b-f9af-d29e014df552"
      },
      "source": [
        "def unique(list1):\n",
        "  list2={}\n",
        "\n",
        "  for i in list1:\n",
        "    c=list1.count(i)\n",
        "    if c==1:\n",
        "      list2[i]=c\n",
        "  print(\"the unique elements in the list are:\",list2)\n",
        "\n",
        "list=[1,2,3,45,45,6,88,88,9]\n",
        "unique(list)"
      ],
      "execution_count": null,
      "outputs": [
        {
          "output_type": "stream",
          "text": [
            "the unique elements in the list are: {1: 1, 2: 1, 3: 1, 6: 1, 9: 1}\n"
          ],
          "name": "stdout"
        }
      ]
    },
    {
      "cell_type": "markdown",
      "metadata": {
        "id": "InFFo1bHyHAA"
      },
      "source": [
        "Exercise - 10\n",
        "\n",
        "Functions - Problem SolvinG\n",
        "AIM:\n",
        "a) Write a function cumulative product to compute cumulative product of a list of numbers.\n",
        "DESCRIPTION:\n",
        "A cumulative product is a sequence of partial products of a given sequence. For example, the\n",
        "cumulative products of the sequence. , are , , .. Cumulative products can be implemented in the\n",
        "Wolfram Language as Rest[FoldList[Times, 1, list]]\n",
        "cumprod(A,1) works on successive elements in the columns of A and returns the\n",
        "cumulative products of each column. cumprod(A,2) works on successive elements in the\n",
        "rows of A and returns the cumulative products of each row.\n",
        "umprod() function is used when we want to compute the cumulative product of array elements\n",
        "over a given axis. Syntax : numpy.cumprod(arr, axis=None, dtype=None, out=None) Parameters :\n",
        "arr : [array_like] Array containing numbers whose cumulative product is desired.\n"
      ]
    },
    {
      "cell_type": "code",
      "metadata": {
        "id": "5tT0AQRqyJBD"
      },
      "source": [
        "def cumulative_product(list1,n):\n",
        "    list2=[]\n",
        "    i=0\n",
        "    list2.append(list1[i])\n",
        "    for i in range(1,n):\n",
        "        v=list1[i]*list2[i-1]\n",
        "        list2.append(v)\n",
        "        \n",
        "    print(list2)\n",
        "list3=[]\n",
        "n=int(input(\"enter size :\"))\n",
        "print(\"enter the data:\")\n",
        "for i in range(0,n):\n",
        "    x=int(input())\n",
        "    list3.append(x)\n",
        "cumulative_product(list3,n)"
      ],
      "execution_count": null,
      "outputs": []
    },
    {
      "cell_type": "code",
      "metadata": {
        "id": "l3DmUe2AyM3H"
      },
      "source": [
        ""
      ],
      "execution_count": null,
      "outputs": []
    },
    {
      "cell_type": "markdown",
      "metadata": {
        "id": "lfAvlPGQd2lC"
      },
      "source": [
        "AIM:\n",
        "b) Write a function reverse to reverse a list. Without using the reverse function.\n",
        "DESCRIPTION:\n",
        "In this Python code snippet post, we are going to implement a list reverse function from the\n",
        "scratch without using any builtin functions.\n",
        "Let us see how…\n",
        "Iterative solution\n",
        "We can use a for loop to swap the first and last items, the second and the one before the last\n",
        "item and so on until the list is reversed in place. The number of iterations needed is half the list\n",
        "size. If the list has an odd number of items then the middle item will stay in its place."
      ]
    },
    {
      "cell_type": "code",
      "metadata": {
        "colab": {
          "base_uri": "https://localhost:8080/"
        },
        "id": "3W4U3oY4yM4v",
        "outputId": "bb7f5584-422b-4e95-aa1b-3c74c39c6bfe"
      },
      "source": [
        "def reverse_list(numlist):\n",
        "    temp=list1[::-1]\n",
        "    numlist=temp\n",
        "    return temp\n",
        "list1=[1,2,3,4]\n",
        "print(\"giiven list is :\",list1)\n",
        "print(\"after reverse function:\",reverse_list(list1))\n",
        "print(\"after list is:\",list1)"
      ],
      "execution_count": null,
      "outputs": [
        {
          "output_type": "stream",
          "text": [
            "giiven list is : [1, 2, 3, 4]\n",
            "after reverse function: [4, 3, 2, 1]\n",
            "after list is: [1, 2, 3, 4]\n"
          ],
          "name": "stdout"
        }
      ]
    },
    {
      "cell_type": "markdown",
      "metadata": {
        "id": "Jr1yPcj_d8fU"
      },
      "source": [
        "AIM:\n",
        "c) Write function to compute gcd, lcm of two numbers. Each function shouldn’t exceed one line.\n",
        "DESCRIPTION:\n",
        "Python provides you an anonymous function called lambda. It can take any number of\n",
        "arguments, but can only have one expression. It can be used to find LCM and GCD values\n",
        "without exceeding each from from one line.\n",
        "The general format is\n",
        "lambda arguments: expression\n",
        "The expression is executed during the function call and the result is returned.\n",
        "Lambda as a Function\n",
        "The power of using a lambda expression is implementing it using a function"
      ]
    },
    {
      "cell_type": "code",
      "metadata": {
        "id": "tUwcyDh8yR8q",
        "colab": {
          "base_uri": "https://localhost:8080/"
        },
        "outputId": "b0f3ca65-dee3-47e7-f705-73ae44cdbb8a"
      },
      "source": [
        "gcd=lambda a,b: a if b==0 else gcd(a,a%b)\n",
        "lcm=lambda a,b: (a*b)/gcd(a,b)\n",
        "\n",
        "x=4\n",
        "y=24\n",
        "print(\"gcd=\",gcd(x,y))\n",
        "print(\"lcm=\",lcm(x,y))"
      ],
      "execution_count": null,
      "outputs": [
        {
          "output_type": "stream",
          "text": [
            "gcd= 4\n",
            "lcm= 24.0\n"
          ],
          "name": "stdout"
        }
      ]
    },
    {
      "cell_type": "markdown",
      "metadata": {
        "id": "fogRb_gT7WJp"
      },
      "source": [
        "Exercise 11: Multi-D Lists\n",
        "\n",
        "AIM:\n",
        "a) Write a program that defines a matrix and prints\n",
        "DESCRIPTION:\n",
        "Lists are a very widely use data structure in python. They contain a list of elements separated by\n",
        "comma. But sometimes lists can also contain lists within them. These are called nested lists or\n",
        "multidimensional lists. In this article we will see how to create and access elements in a\n",
        "multidimensional list.\n",
        "Methods on Multidimensional lists\n",
        "1. append(): Adds an element at the end of the list.\n",
        "2. extend(): Add the elements of a list (or any iterable), to the end of the current list.\n",
        "3. reverse(): Reverses the order of the list."
      ]
    },
    {
      "cell_type": "code",
      "metadata": {
        "colab": {
          "base_uri": "https://localhost:8080/"
        },
        "id": "8GFs_xVi7awD",
        "outputId": "b53fbd64-4e45-4c87-820b-59dae9bc3468"
      },
      "source": [
        "matA=[[]]\n",
        "rows=int(input(\"Enter row size of matrix: \"))\n",
        "cols=int(input(\"Enter column size of matrix: \"))\n",
        "matA=[[int(input(\"Enter[%d,%d] value: \"%(i,j)))for j in range(cols)]for i in range(rows)]\n",
        "print(\"matrix is: \")\n",
        "for i in range(rows):\n",
        "  for j in range(cols):\n",
        "    print(matA[i][j],end='\\t')\n",
        "  print()"
      ],
      "execution_count": null,
      "outputs": [
        {
          "output_type": "stream",
          "text": [
            "Enter row size of matrix: 2\n",
            "Enter column size of matrix: 2\n",
            "Enter[0,0] value: 1\n",
            "Enter[0,1] value: 2\n",
            "Enter[1,0] value: 3\n",
            "Enter[1,1] value: 4\n",
            "matrix is: \n",
            "1\t2\t\n",
            "3\t4\t\n"
          ],
          "name": "stdout"
        }
      ]
    },
    {
      "cell_type": "markdown",
      "metadata": {
        "id": "Q_weeAcZePHx"
      },
      "source": [
        "AIM:\n",
        "b) Write a program to perform addition of two square matrices\n",
        "DESCRIPTION:\n",
        "We can perform matrix addition in following ways in Python.\n",
        "1. Using for loop:\n",
        "Explanation :- In this program we have used nested for loops to iterate through each row and\n",
        "each column. At each point we add the corresponding elements in the two matrices and store it\n",
        "in the result.\n",
        "2. Using nested list comprehension :\n",
        "In Python, we can implement a matrix as nested list (list inside a list). We can treat each\n",
        "element as a row of the matrix.\n",
        "Explanation :-\n",
        "The output of this program is the same as above. We have used nested list comprehension to\n",
        "iterate through each element in the matrix. List comprehension allows us to write concise codes\n",
        "and we must try to use them frequently in Python. They are very helpful.\n",
        "3. uising zip function\n",
        "Explanation :\n",
        "The zip function accepts iterator i of each element(list) of matrix, mapping them, adding them\n",
        "using sum() and storing them in the map form."
      ]
    },
    {
      "cell_type": "code",
      "metadata": {
        "colab": {
          "base_uri": "https://localhost:8080/"
        },
        "id": "HHqfpsMA7jjJ",
        "outputId": "5e01b1c7-9d04-439b-c92f-384f07b8eff9"
      },
      "source": [
        "def matRead(r,c):\n",
        "  return[[int(input(\"[%d,%d]value:\"%(i,j)))for j in range(c)]for i in range(r)]\n",
        "def matDisp(mat,r,c):\n",
        "  for i in range(r):\n",
        "    for j in range(c):\n",
        "      print(mat[i][j],end='\\t')\n",
        "    print()\n",
        "matA=[[]]\n",
        "matB=[[]]       \n",
        "matSum=[[]]\n",
        "rows=int(input(\"Enter row size of the matrix: \"))\n",
        "cols=int(input(\"Enter column size of the matrix: \"))\n",
        "if rows==cols:\n",
        "  print(\"Enter Matrix-A elements: \")\n",
        "  matA=matRead(rows,cols)\n",
        " \n",
        "  print(\"Enter Matrix-B elements: \")\n",
        "  matB=matRead(rows,cols)\n",
        " \n",
        "  print(\"Matrix-A is: \")\n",
        "  matDisp(matA,rows,cols)\n",
        " \n",
        "  print(\"Matrix-B is: \")\n",
        "  matDisp(matB,rows,cols)\n",
        "  matSum=[[matA[i][j]+matB[i][j]for j in range(cols)]for i in range(rows)]\n",
        "  print(\"sum of matrices is: \")\n",
        "  matDisp(matSum,rows,cols)\n",
        "else:\n",
        "  print(\"Matrices addition is not possible\")"
      ],
      "execution_count": null,
      "outputs": [
        {
          "output_type": "stream",
          "text": [
            "Enter row size of the matrix: 2\n",
            "Enter column size of the matrix: 2\n",
            "Enter Matrix-A elements: \n",
            "[0,0]value:1\n",
            "[0,1]value:2\n",
            "[1,0]value:3\n",
            "[1,1]value:4\n",
            "Enter Matrix-B elements: \n",
            "[0,0]value:4\n",
            "[0,1]value:3\n",
            "[1,0]value:2\n",
            "[1,1]value:1\n",
            "Matrix-A is: \n",
            "1\t2\t\n",
            "3\t4\t\n",
            "Matrix-B is: \n",
            "4\t3\t\n",
            "2\t1\t\n",
            "sum of matrices is: \n",
            "5\t5\t\n",
            "5\t5\t\n"
          ],
          "name": "stdout"
        }
      ]
    },
    {
      "cell_type": "markdown",
      "metadata": {
        "id": "YXKdk2JZeftM"
      },
      "source": [
        "AIM:\n",
        "c) Write a program to perform multiplication of two square\n",
        "DESCRIPTION:\n",
        "In Python, we can implement a matrix as nested list (list inside a list).\n",
        "We can treat each element as a row of the matrix.\n",
        "For example X = [[1, 2], [4, 5], [3, 6]] would represent a 3x2 matrix.\n",
        "The first row can be selected as X[0]. And, the element in first row, first column can be selected\n",
        "as X[0][0].\n",
        "Multiplication of two matrices X and Y is defined only if the number of columns in X is equal to\n",
        "the number of rows Y.\n",
        "If X is a n x m matrix and Y is a m x l matrix then, XY is defined and has the dimension n x l (but\n",
        "YX is not defined). Here are a couple of ways to implement matrix multiplication in Python.\n"
      ]
    },
    {
      "cell_type": "code",
      "metadata": {
        "colab": {
          "base_uri": "https://localhost:8080/"
        },
        "id": "Fjfn4zd67rMe",
        "outputId": "4fb415fa-47b2-4099-f5d6-c5d887aa9a34"
      },
      "source": [
        "def  matRead(r,c):  \n",
        "  return[[int(input(\"[%d,%d]value: \"%(i,j)))for j in range(c)]for i in range(r)]\n",
        "def matDisp(mat,r,c):\n",
        "  for i in range(r):\n",
        "    for j in range(c):\n",
        "      print(mat[i][j],end='\\t')\n",
        "matA=[[]]\n",
        "matB=[[]]\n",
        "matMul=[[]]\n",
        "rows=int(input(\"Enter row size of the Matrix: \"))\n",
        "cols=int(input(\"Enter column size of the Matrix: \"))\n",
        " \n",
        "if rows==cols:\n",
        "  print(\"Enter Matrix-A: \")\n",
        "  matA=matRead(rows,cols)\n",
        "  print(\" Enter Matrix-B: \")\n",
        "  matB=matRead(rows,cols)\n",
        " \n",
        "  matMul=[[0 for j in range(cols)]for i in range(rows)]\n",
        "  for i in range(rows):\n",
        "    for j in range(cols):\n",
        "      for k in range(cols):\n",
        "        matMul[i][j]+=matA[i][k]*matB[k][j]\n",
        "  print(\"Matrix-A is: \")\n",
        "  matDisp(matA,rows,cols)\n",
        " \n",
        "  print(\"Matrix-B is: \")\n",
        "  matDisp(matB,rows,cols)\n",
        " \n",
        "  print(\"Multiplication of matrices is: \")\n",
        "  matDisp(matMul,rows,cols)\n",
        "else:\n",
        "  print(\"Matrices Multiplication is not possible is\")"
      ],
      "execution_count": null,
      "outputs": [
        {
          "output_type": "stream",
          "text": [
            "Enter row size of the Matrix: 2\n",
            "Enter column size of the Matrix: 2\n",
            "Enter Matrix-A: \n",
            "[0,0]value: 1\n",
            "[0,1]value: 2\n",
            "[1,0]value: 3\n",
            "[1,1]value: 4\n",
            " Enter Matrix-B: \n",
            "[0,0]value: 4\n",
            "[0,1]value: 3\n",
            "[1,0]value: 2\n",
            "[1,1]value: 1\n",
            "Matrix-A is: \n",
            "1\t2\t3\t4\tMatrix-B is: \n",
            "4\t3\t2\t1\tMultiplication of matrices is: \n",
            "8\t5\t20\t13\t"
          ],
          "name": "stdout"
        }
      ]
    },
    {
      "cell_type": "markdown",
      "metadata": {
        "id": "n-58dHJz74Th"
      },
      "source": [
        "Exercise 12-Modules\n",
        "\n",
        "AIM:\n",
        "a) Install packages requests,flask and explore them using(pip)\n",
        "DESCRIPTION:\n",
        "Installing the pip Python package manager on Windows If you are on Windows, and your\n",
        "installed Python the current version, you already have pip! If your Python installation is not the\n",
        "most recent, the easiest thing to do is to simply reinstall it. Download the Python Windows\n",
        "installer at https://www.python.org/downloads/.\n",
        "In Windows, the variable that controls which programs are accessible from the command line is\n",
        "path. To modify your path to include Python and pip, we have to add C:\\Python27 and\n",
        "C:\\Python27\\Tools. Edit the Windows path by opening the Windows menu, right-clicking\n",
        "on Computer and clicking on Properties. Under Advanced system settings, click\n",
        "Environment Variables. Scroll down until you find Path, double-click it, and add\n",
        ";C:\\Python27;C:\\Python27\\Tools to the end.\n",
        "Installing packages:\n",
        "Suppose you want to install a package called requests (which is used to make HTTP requests).\n",
        "You need to issue the following command.\n",
        "pip install requests\n",
        "show installed packages\n",
        "You can use the following command to get information about a installed package, i.e Package\n",
        "name, version, location, dependencies.\n",
        "pip show package_name\n",
        "install flask\n",
        "On Mac and Linux, because you are installing programs outside the user-owned folders, you\n",
        "might have to prepend sudo to the install commands. To install Flask, simply run this:\n",
        "$ pip install flask\n",
        "show installed flask\n",
        "You can use the following command to get information about a installed flask, i.e Package\n",
        "name, version, location, dependencies\n",
        "$ pip show flask\n"
      ]
    },
    {
      "cell_type": "code",
      "metadata": {
        "id": "GnNRl_EL75RS"
      },
      "source": [
        "The requests and flask packages are downloaded from internet using the following commands.\n",
        "c:\\phython3.9\\scripts>pip install requests\n",
        "c:\\phython3.9\\scripts>pip show requests\n",
        "c:\\phython3.9\\scripts>pip install flask\n",
        "c:\\phython3.9\\scripts>pip show flask"
      ],
      "execution_count": null,
      "outputs": []
    },
    {
      "cell_type": "markdown",
      "metadata": {
        "id": "ZUEIeD4EfxBq"
      },
      "source": [
        "AIM:\n",
        "b) Write a scripts that imports requests and fetch content from the page.Eg. (Wiki)code:\n",
        "DESCRIPTION:\n",
        "The Hypertext Transfer Protocol (HTTP) is an application protocol for distributed, collaborative,\n",
        "hypermedia information systems. HTTP is the foundation of data communication for the World\n",
        "Wide Web.\n",
        "Python requests\n",
        "Requests is a simple and elegant Python HTTP library. It provides methods for accessing Web\n",
        "resources via HTTP.\n",
        "Python requests reading a web page\n",
        "The get() method issues a GET request; it fetches documents identified by the given URL."
      ]
    },
    {
      "cell_type": "code",
      "metadata": {
        "id": "sBsBOs4z8BKk"
      },
      "source": [
        "from flask import Flask,render_template\n",
        "app=Flask(__name__)\n",
        "print(app)\n",
        "@app.route(\"/\")\n",
        "def main():\n",
        "  return render_template(\"login.html')\n",
        "if__name__==\"__main__\":\n",
        "  app.run(host=\"127.0.0.1\",port=2500)"
      ],
      "execution_count": null,
      "outputs": []
    },
    {
      "cell_type": "markdown",
      "metadata": {
        "id": "1oLg-k8LgDS4"
      },
      "source": [
        "AIM:\n",
        "c) Write a simple script that serves a simple HTTPResponse and Simple HTML page.\n",
        "DESCRIPTION:\n",
        "HTTP Protocol\n",
        "The most important part of a web server is HTTP protocol.So now we will see what exactly this\n",
        "is –\n",
        "It stands for Hyper Text Transfer Protocol.\n",
        "It is an application layer protocol that allows web based applications to communicate and\n",
        "exchange data.\n",
        "The HTTP is the messenger of web.\n",
        "The computer that communicate via the HTTP must speak the HTTP protocol.\n",
        "It is a TCP/IP based protocol.\n",
        "It is used to deliver contents, for eg. images, audios, videos, documents etc.\n",
        "Using HTTP is the most convenient way to quickly and reliably move data on the web.\n",
        "HTML stands for hypertext markup language. It is the standard markup language for web pages\n",
        "that define the structure of the content. These elements are the building blocks of any website"
      ]
    },
    {
      "cell_type": "code",
      "metadata": {
        "id": "x1Q1xIvfgFUQ"
      },
      "source": [
        "from flask import Flask,render_template\n",
        "app=Flask( name )\n",
        "print(app)\n",
        "@app.route(\"/\")\n",
        "def main():\n",
        "return render_template('abc.html')\n",
        "if name ==\" main \":\n",
        "app.run(host=\"127.0.0.1\",port=2500)\n",
        "<Flask ' main '>\n",
        "* Serving Flask app \" main \" (lazy loading)\n",
        "* Environment: production\n",
        "WARNING: This is a development server. Do not use it in a production deployment.\n",
        "Use a production WSGI server instead.\n",
        "* Debug mode: off\n",
        "* Running on http://127.0.0.1:2500/ (Press CTRL+C to quit)"
      ],
      "execution_count": null,
      "outputs": []
    },
    {
      "cell_type": "markdown",
      "metadata": {
        "id": "_H4JaqHq8FXb"
      },
      "source": [
        "Exercise 13- OOP\n",
        "\n",
        "AIM:\n",
        "a)class variables and instance variable and illustration of the self -variable\n",
        "DESCRIPTION:\n",
        "Variables are named storage location. In python variables are not defined by its type instead it\n",
        "will be automatically determined by the value assigned to it. To determine the type of a variable\n",
        "a function called type () is used.\n",
        "class variableis shared by all object instances of a class.....They are not defined inside any\n",
        "methods of a class. Because a class variable is shared by instances of a class, the Python class\n",
        "owns the variable. As a result, all instances of the class will be able to access that variable\n",
        "Instance variables are owned by instances of the class. This means that for each object or\n",
        "instance of a class, the instance variables are different..... Instance variables, owned by objects\n",
        "of the class, allow for each object or instance to have different values assigned to those\n",
        "variables\n",
        "self variable is used to bind the instance of the class to the instance method. We have to\n",
        "explicitly declare it as the first method argument to access the instance variables and methods.\n",
        "This variable is used only with the instance methods."
      ]
    },
    {
      "cell_type": "code",
      "metadata": {
        "id": "QjdSDneh8GQC"
      },
      "source": [
        ""
      ],
      "execution_count": null,
      "outputs": []
    },
    {
      "cell_type": "code",
      "metadata": {
        "colab": {
          "base_uri": "https://localhost:8080/"
        },
        "id": "a5ADE8Ty8GRH",
        "outputId": "51b5954b-8a8e-42b6-9832-4d5b05d93782"
      },
      "source": [
        "class Robot:\n",
        "    what=\"Machine\"\n",
        "    name=\"Chitti\"\n",
        "    version=1.0\n",
        "    speed=\"1THz\"\n",
        "    memory=\"1ZB\"\n",
        " \n",
        "    def update(upd):\n",
        "        upd.version=2.0\n",
        "        upd.speed=\"2THz\"\n",
        "        upd.memory=\"2ZB\"\n",
        " \n",
        "    def disp(self):\n",
        "        print(\"Myself is a\",robj.what)\n",
        "        print(\"MyName is a\",robj.name)\n",
        "        print(\"Version :\",robj.version)\n",
        "        print(\"Speed : \",robj.speed)\n",
        "        print(\"Memory: \",robj.memory)\n",
        " \n",
        "robj=Robot()\n",
        "robj.disp()\n",
        " \n",
        "print(\"---------------Update---------\")\n",
        "robj.update()\n",
        "robj.disp()"
      ],
      "execution_count": null,
      "outputs": [
        {
          "output_type": "stream",
          "text": [
            "Myself is a Machine\n",
            "MyName is a Chitti\n",
            "Version : 1.0\n",
            "Speed :  1THz\n",
            "Memory:  1ZB\n",
            "---------------Update---------\n",
            "Myself is a Machine\n",
            "MyName is a Chitti\n",
            "Version : 2.0\n",
            "Speed :  2THz\n",
            "Memory:  2ZB\n"
          ],
          "name": "stdout"
        }
      ]
    },
    {
      "cell_type": "markdown",
      "metadata": {
        "id": "DqpOu6drghdo"
      },
      "source": [
        "ii)ATM machine"
      ]
    },
    {
      "cell_type": "code",
      "metadata": {
        "colab": {
          "base_uri": "https://localhost:8080/"
        },
        "id": "8gP73MuT8M53",
        "outputId": "793f8981-8898-4655-8960-e64ee7e135f1"
      },
      "source": [
        "class ATM:\n",
        "    def __init__(self):\n",
        "        self.balance=0\n",
        "        print(\"New Account\")\n",
        "        \n",
        "    def enquire(self):\n",
        "        print(\"Balance: \",self.balance)\n",
        "        \n",
        "    def deposit(self):\n",
        "        amount=int(input(\"Enter the Deposit Amount:\"))\n",
        "        self.balance+=amount\n",
        "        self.enquire()\n",
        " \n",
        "    def withdraw(self):\n",
        "        amount=int(input(\"Enter the Withdraw Amount: \"))\n",
        "        if self.balance<amount:\n",
        "            print(\"Insufficient Balance.....!\")\n",
        "        else:\n",
        "            self.balance-=amount\n",
        "            self.enquire()\n",
        " \n",
        "aobj=ATM()\n",
        "while(True):\n",
        "    print(\"*****Menu****\")\n",
        "    print(\"1.Deposit\")\n",
        "    print(\"2.Withdarw\")\n",
        "    print(\"3.Balance\")\n",
        "    print(\"0.Exit\")\n",
        "    ch=int(input(\"Enter Your Choice: \"))\n",
        "    if ch==0:\n",
        "        break\n",
        "    elif ch==1:\n",
        "        aobj.deposit()\n",
        "    elif ch==2:\n",
        "        aobj.withdraw()\n",
        "    elif ch==3:\n",
        "        aobj.enquire()\n",
        "    else:\n",
        "        print(\"Invalid choice:\")\n",
        "        pass"
      ],
      "execution_count": null,
      "outputs": [
        {
          "output_type": "stream",
          "text": [
            "New Account\n",
            "*****Menu****\n",
            "1.Deposit\n",
            "2.Withdarw\n",
            "3.Balance\n",
            "0.Exit\n",
            "Enter Your Choice: 1\n",
            "Enter the Deposit Amount:500000\n",
            "Balance:  500000\n",
            "*****Menu****\n",
            "1.Deposit\n",
            "2.Withdarw\n",
            "3.Balance\n",
            "0.Exit\n",
            "Enter Your Choice: 3\n",
            "Balance:  500000\n",
            "*****Menu****\n",
            "1.Deposit\n",
            "2.Withdarw\n",
            "3.Balance\n",
            "0.Exit\n",
            "Enter Your Choice: 0\n"
          ],
          "name": "stdout"
        }
      ]
    },
    {
      "cell_type": "markdown",
      "metadata": {
        "id": "OCmE78iShJIY"
      },
      "source": [
        "Exercise14:GUI,Graphics"
      ]
    },
    {
      "cell_type": "markdown",
      "metadata": {
        "id": "DMfHGsjlhJ83"
      },
      "source": [
        "AIM:"
      ]
    },
    {
      "cell_type": "markdown",
      "metadata": {
        "id": "dFZQ07Gw8VLx"
      },
      "source": [
        "\n",
        "\n",
        "1.Write a GUI for an Expression Calculator using tk.\n",
        "\n"
      ]
    },
    {
      "cell_type": "markdown",
      "metadata": {
        "id": "x2dkGHosg_qg"
      },
      "source": [
        "DESCRIPTION:\n",
        "\n",
        "Tkinter is a Python package which comes with many functions and methods that can be used to create an application. In order to create a tkinter application, we generally create an instance of tkinter frame, i.e., Tk(). It helps to display the root window and manages all the other components of the tkinter application. We can initialize the tkinter instance by assigning the variable to it."
      ]
    },
    {
      "cell_type": "code",
      "metadata": {
        "id": "SQjtemyw8V-Z"
      },
      "source": [
        ""
      ],
      "execution_count": null,
      "outputs": []
    },
    {
      "cell_type": "code",
      "metadata": {
        "id": "u03U4IW0hW9w"
      },
      "source": [
        "from tkinter import *\n",
        "from math import *\n",
        "win=Tk()\n",
        "win.geometry(\"312x324\")\n",
        "win.resizable(0,0)\n",
        "win.title(\"My Calculator\")\n",
        "\n",
        "def btn_click(item):\n",
        "    global expression\n",
        "    expression=expression+str(item)\n",
        "    input_text.set(expression)\n",
        "\n",
        "def bt_clear():\n",
        "    global expression\n",
        "    expression=\"\"\n",
        "    input_text.set(\"\")\n",
        "\n",
        "def bt_equal():\n",
        "    global expression\n",
        "    result=str(eval(expression))\n",
        "    input_text.set(result)\n",
        "    expression=\"\"\n",
        "expression=\"\"\n",
        "\n",
        "input_text=StringVar()\n",
        "\n",
        "input_frame = Frame(win,width=312,height=50,bd=0,highlightbackground=\"black\",\n",
        "highlightcolor=\"black\",highlightthickness=2)\n",
        "input_frame.pack(side=TOP)\n",
        "\n",
        "input_field = Entry(input_frame,font=('arial',18,'bold'),textvariable=input_text,width=50,bg=\"#eee\",bd=0,justify=RIGHT)\n",
        "input_field.grid(row=0,column=0)\n",
        "input_field.pack(ipady=10)\n",
        "\n",
        "btns_frame=Frame(win,width=312,height=272.5,bg=\"grey\")\n",
        "btns_frame.pack()\n",
        "\n",
        "clear=Button(btns_frame,text=\"C\",fg=\"black\",width=32,height=3,bd=0,bg=\"#eee\",cursor=\"hand2\",command=lambda:bt_clear()).grid(row=0,column=0,columnspan=3,padx=1,pady=1)\n",
        "divide=Button(btns_frame,text=\"/\",fg=\"black\",width=10,height=3,bd=0,bg=\"#eee\",cursor=\"hand2\",command=lambda:btn_click(\"/\")).grid(row=0,column=3,padx=1,pady=1)\n",
        "\n",
        "seven=Button(btns_frame,text=\"7\",fg=\"black\",width=10,height=3,bd=0,bg=\"#fff\",cursor=\"hand2\",command=lambda:btn_click(7)).grid(row=1,column=0,padx=1,pady=1)\n",
        "eight=Button(btns_frame,text=\"8\",fg=\"black\",width=10,height=3,bd=0,bg=\"#fff\",cursor=\"hand2\",command=lambda:btn_click(8)).grid(row=1,column=1,padx=1,pady=1)\n",
        "nine=Button(btns_frame,text=\"9\",fg=\"black\",width=10,height=3,bd=0,bg=\"#fff\",cursor=\"hand2\",command=lambda:btn_click(9)).grid(row=1,column=2,padx=1,pady=1)\n",
        "multiply=Button(btns_frame,text=\"*\",fg=\"black\",width=10,height=3,bd=0,bg='#eee',cursor=\"hand2\",command=lambda:btn_click(\"*\")).grid(row=1,column=3, padx=1,pady=1)\n",
        "\n",
        "four=Button(btns_frame,text=\"4\",fg=\"black\",width=10,height=3,bd=0,bg=\"#fff\",cursor=\"hand2\",command=lambda:btn_click(4)).grid(row=2,column=0,padx=1,pady=1)\n",
        "five=Button(btns_frame,text=\"5\",fg=\"black\",width=10,height=3,bd=0,bg=\"#fff\",cursor=\"hand2\",command=lambda:btn_click(5)).grid(row=2,column=1,padx=1,pady=1)\n",
        "six=Button(btns_frame,text=\"6\",fg=\"black\",width=10,height=3,bd=0,bg=\"#fff\",cursor=\"hand2\",command=lambda:btn_click(6)).grid(row=2,column=2,padx=1,pady=1)\n",
        "minus=Button(btns_frame,text=\"-\",fg=\"black\",width=10,height=3,bd=0,bg='#eee',cursor=\"hand2\",command=lambda:btn_click(\"-\")).grid(row=2,column=3, padx=1,pady=1)\n",
        "\n",
        "one=Button(btns_frame,text=\"1\",fg=\"black\",width=10,height=3,bd=0,bg=\"#fff\",cursor=\"hand2\",command=lambda:btn_click(1)).grid(row=3,column=0,padx=1,pady=1)\n",
        "two=Button(btns_frame,text=\"2\",fg=\"black\",width=10,height=3,bd=0,bg=\"#fff\",cursor=\"hand2\",command=lambda:btn_click(2)).grid(row=3,column=1,padx=1,pady=1)\n",
        "three=Button(btns_frame,text=\"3\",fg=\"black\",width=10,height=3,bd=0,bg=\"#fff\",cursor=\"hand2\",command=lambda:btn_click(3)).grid(row=3,column=2,padx=1,pady=1)\n",
        "plus=Button(btns_frame,text=\"+\",fg=\"black\",width=10,height=3,bd=0,bg='#eee',cursor=\"hand2\",command=lambda:btn_click(\"+\")).grid(row=3,column=3, padx=1,pady=1)\n",
        "\n",
        "zero=Button(btns_frame,text=\"0\",fg=\"black\",width=21,height=3,bd=0,bg=\"#fff\",cursor=\"hand2\",command=lambda:btn_click(0)).grid(row=4,column=0,columnspan=2,padx=1,pady=1)\n",
        "point=Button(btns_frame,text=\".\",fg=\"black\",width=10,height=3,bd=0,bg=\"#eee\",cursor=\"hand2\",command=lambda:btn_click(\".\")).grid(row=4,column=2,padx=1,pady=1)\n",
        "equals=Button(btns_frame,text=\"=\",fg=\"black\",width=10,height=3,bd=0,bg=\"#eee\",cursor=\"hand2\",command=lambda:bt_equal()).grid(row=4,column=3,padx=1,pady=1)\n",
        "\n",
        "win.mainloop()"
      ],
      "execution_count": null,
      "outputs": []
    },
    {
      "cell_type": "markdown",
      "metadata": {
        "id": "wcEUpLZFhfv4"
      },
      "source": [
        "AIM:"
      ]
    },
    {
      "cell_type": "markdown",
      "metadata": {
        "id": "kWUiNpXOhe64"
      },
      "source": [
        "b. Write a program to implement the following figures using turtle"
      ]
    },
    {
      "cell_type": "markdown",
      "metadata": {
        "id": "ZN2d-akWhkUH"
      },
      "source": [
        "**DESCRIPTION:**\n",
        "\n",
        "The turtle module is an extended reimplementation of the same-named module from the Python standard distribution up to version Python 2.5.\n",
        "\n",
        "It tries to keep the merits of the old turtle module and to be (nearly) 100% compatible with it. This means in the first place to enable the learning programmer to use all the commands, classes and methods interactively when using the module from within IDLE run with the -n switch.\n",
        "\n",
        "The turtle module provides turtle graphics primitives, in both object-oriented and procedure-oriented ways. Because it uses tkinter for the underlying graphics, it needs a version of Python installed with Tk support."
      ]
    },
    {
      "cell_type": "code",
      "metadata": {
        "id": "sbGo_vYB8V_e"
      },
      "source": [
        " import turtle\n",
        "c=[\"red\",\"green\",\"blue\"]\n",
        "i=0\n",
        "turtle.pensize(5)\n",
        " \n",
        "for angle in range(0,360,30):\n",
        "    if i>2:\n",
        "        i=0\n",
        "    turtle.color(c[i])\n",
        "    turtle.seth(angle)\n",
        "    turtle.circle(50)\n",
        "    i+=1"
      ],
      "execution_count": null,
      "outputs": []
    },
    {
      "cell_type": "code",
      "metadata": {
        "id": "vE6XD-_S8btu"
      },
      "source": [
        "import turtle\n",
        "turtle.pensize(1)\n",
        " \n",
        "for i in range(36):\n",
        "    for j in range(4):\n",
        "        turtle.forward(70)\n",
        "        turtle.left(90)\n",
        "    turtle.left(10)"
      ],
      "execution_count": null,
      "outputs": []
    },
    {
      "cell_type": "markdown",
      "metadata": {
        "id": "nAvhszmHh_oH"
      },
      "source": [
        " Exercise 15: Testing"
      ]
    },
    {
      "cell_type": "markdown",
      "metadata": {
        "id": "tG8_puHWiH74"
      },
      "source": [
        "AIM:"
      ]
    },
    {
      "cell_type": "markdown",
      "metadata": {
        "id": "iHirOGb68f7J"
      },
      "source": [
        "\n",
        " \n",
        "a)Write a test case to check the function even numbers which return true on passing a list of all even numbers.\n",
        " **DESCRIPTION:**\n",
        "\n",
        "TestCase is used to create test cases by subclassing it. The last block of the code at the bottom allows us to run all the tests just by running the file. Basic terms used in the code : assertEqual() – This statement is used to check if the result obtained is equal to the expected result\n",
        "\n",
        "**test case:**\n",
        "\n",
        "A test case is a set of conditions which is used to determine whether a system under test works correctly."
      ]
    },
    {
      "cell_type": "code",
      "metadata": {
        "colab": {
          "base_uri": "https://localhost:8080/"
        },
        "id": "8moZLJ2V8gpV",
        "outputId": "ee7ef8a8-e0c8-433b-eff6-1010886428d1"
      },
      "source": [
        "def evnNo(num):\n",
        "    stat=True\n",
        " \n",
        "    for i in num:\n",
        "        if i%2 ==1:\n",
        "            stat=False\n",
        "            break\n",
        "    return stat\n",
        "        \n",
        "numbers=[]\n",
        "for i in range(0,2):\n",
        "    numbers.append(int(input(\"Enter a value\")))\n",
        "print(evnNo(numbers))"
      ],
      "execution_count": null,
      "outputs": [
        {
          "output_type": "stream",
          "text": [
            "Enter a value4\n",
            "Enter a value2\n",
            "True\n"
          ],
          "name": "stdout"
        }
      ]
    },
    {
      "cell_type": "markdown",
      "metadata": {
        "id": "khMiUKqRiSys"
      },
      "source": [
        "**b) Write a test-case to check the function reverse string which returns the reversed string**"
      ]
    },
    {
      "cell_type": "markdown",
      "metadata": {
        "id": "MWJihAV1iigA"
      },
      "source": [
        "**DESCRIPTION:**\n",
        "\n",
        "Python string library does’nt support the in-built “reverse()” as done by other python containers like list, hence knowing other methods to reverse string can prove to be useful. This article discusses several ways to achieve it.\n",
        "\n",
        "The reversed() returns the reversed iterator of the given string and then its elements are joined empty string separated using join(). And reversed order string is formed."
      ]
    },
    {
      "cell_type": "code",
      "metadata": {
        "colab": {
          "base_uri": "https://localhost:8080/"
        },
        "id": "FYXJJF4m8u9m",
        "outputId": "5e32294e-9d72-44c8-9f36-368904430c5f"
      },
      "source": [
        " \n",
        " \n",
        "def rev_str(st):\n",
        "    return st[::-1]\n",
        " \n",
        "st=\"swarnandhra\"\n",
        "print(\"Given String is: \",st)\n",
        " \n",
        "print(\"Reverse is: \",rev_str(st))"
      ],
      "execution_count": null,
      "outputs": [
        {
          "output_type": "stream",
          "text": [
            "Given String is:  swarnandhra\n",
            "Reverse is:  arhdnanraws\n"
          ],
          "name": "stdout"
        }
      ]
    },
    {
      "cell_type": "markdown",
      "metadata": {
        "id": "TulGHJLZiqav"
      },
      "source": [
        "Exercise - 16 - Advanced"
      ]
    },
    {
      "cell_type": "markdown",
      "metadata": {
        "id": "38lepn1s8zyi"
      },
      "source": [
        "\n",
        "\n",
        "a) Build any one classical data structure.\n",
        "\n"
      ]
    },
    {
      "cell_type": "markdown",
      "metadata": {
        "id": "XCconDMPiwTv"
      },
      "source": [
        "**DESCRIPTION:**\n",
        "\n",
        "**What is a Data Structure?** \n",
        "\n",
        "Organizing, managing and storing data is important as it enables easier access and efficient modifications. Data Structures allows you to organize your data in such a way that enables you to store collections of data, relate them and perform operations on them accordingly. \n",
        "\n",
        "**Stack**\n",
        "Stacks are linear Data Structures which are based on the principle of Last-In-First-Out (LIFO) where data which is entered last will be the first to get accessed. It is built using the array structure and has operations namely, pushing (adding) elements, popping (deleting) elements and accessing elements only from one point in the stack called as the TOP. This TOP is the pointer to the current position of the stack. Stacks are prominently used in applications such as Recursive Programming, reversing words, undo mechanisms in word editors and so forth."
      ]
    },
    {
      "cell_type": "code",
      "metadata": {
        "id": "0vWZOF0X80qH",
        "colab": {
          "base_uri": "https://localhost:8080/",
          "height": 673
        },
        "outputId": "bbe44a43-870a-4105-95f4-3cb40e18b607"
      },
      "source": [
        "import sys\n",
        "a=[]\n",
        "\n",
        "while True:\n",
        "    print(\"\\n1.PUSH 2.POP 3.DISPLAY 4.EXIT\")\n",
        "    ch=int(input(\"Enter Your Choice:\"))\n",
        "    if ch==1:\n",
        "        ele=int(input(\"Enter Element: \"))\n",
        "        a.append(ele)\n",
        "        print(\"Inserted\")\n",
        "    elif ch==2:\n",
        "        if len(a)==0:\n",
        "            print(\"\\t STACK IS EMPTY\")\n",
        "        else:\n",
        "            print(\"Deleted element is:\",a[len(a)-1])\n",
        "            a.remove(a[len(a)-1])\n",
        "    elif ch==3:\n",
        "        if len(a)==0:\n",
        "            print(\"\\tSTACK IS EMPTY\")\n",
        "        else:\n",
        "            print(\"\\t The Elements in Stack is: \")\n",
        "            for i in reversed(a):\n",
        "                print(i)\n",
        "    elif ch==4:\n",
        "        sys.exit()\n",
        "    else:\n",
        "        print(\"\\tINVALID CHOICE\")\n"
      ],
      "execution_count": null,
      "outputs": [
        {
          "name": "stdout",
          "output_type": "stream",
          "text": [
            "\n",
            "1.PUSH 2.POP 3.DISPLAY 4.EXIT\n",
            "Enter Your Choice:1\n",
            "Enter Element: 5\n",
            "Inserted\n",
            "\n",
            "1.PUSH 2.POP 3.DISPLAY 4.EXIT\n",
            "Enter Your Choice:1\n",
            "Enter Element: 10\n",
            "Inserted\n",
            "\n",
            "1.PUSH 2.POP 3.DISPLAY 4.EXIT\n",
            "Enter Your Choice:1\n",
            "Enter Element: 16\n",
            "Inserted\n",
            "\n",
            "1.PUSH 2.POP 3.DISPLAY 4.EXIT\n",
            "Enter Your Choice:1\n",
            "Enter Element: 4\n",
            "Inserted\n",
            "\n",
            "1.PUSH 2.POP 3.DISPLAY 4.EXIT\n",
            "Enter Your Choice:3\n",
            "\t The Elements in Stack is: \n",
            "4\n",
            "16\n",
            "10\n",
            "5\n",
            "\n",
            "1.PUSH 2.POP 3.DISPLAY 4.EXIT\n",
            "Enter Your Choice:4\n"
          ]
        },
        {
          "output_type": "error",
          "ename": "SystemExit",
          "evalue": "ignored",
          "traceback": [
            "An exception has occurred, use %tb to see the full traceback.\n",
            "\u001b[0;31mSystemExit\u001b[0m\n"
          ]
        },
        {
          "output_type": "stream",
          "name": "stderr",
          "text": [
            "/usr/local/lib/python3.7/dist-packages/IPython/core/interactiveshell.py:2890: UserWarning: To exit: use 'exit', 'quit', or Ctrl-D.\n",
            "  warn(\"To exit: use 'exit', 'quit', or Ctrl-D.\", stacklevel=1)\n"
          ]
        }
      ]
    },
    {
      "cell_type": "markdown",
      "metadata": {
        "id": "MDo7_D7WjcZ-"
      },
      "source": [
        "AIM:"
      ]
    },
    {
      "cell_type": "markdown",
      "metadata": {
        "id": "N_rfXcJujbuG"
      },
      "source": [
        "b) Write a program to solve knapsack problem"
      ]
    },
    {
      "cell_type": "markdown",
      "metadata": {
        "id": "O7PfAJKijgYr"
      },
      "source": [
        "**DESCRIPTION:**\n",
        "\n",
        "Python Program for 0-1 Knapsack Problem\n",
        "\n",
        "Problem statement − We are given weights and values of n items, we need to put these items in a bag of capacity W up to the maximum capacity w. We need to carry a maximum number of items and return its value.\n",
        "\n",
        " Brute-force approach.\n",
        "\n",
        "dynamic approach."
      ]
    },
    {
      "cell_type": "code",
      "metadata": {
        "id": "f5hUx5Tk88Lx"
      },
      "source": [
        " \n",
        "def knapSack(W,wt,val,n): \n",
        " K=[[0 for x in range(W+1)] for x in range(n+1)]\n",
        "for i in range(n+1):\n",
        "  for w in range(W+1):\n",
        "   if i==0orw==0:\n",
        "      K[i][w]=0\n",
        "   elif wt[i-1]<=w:\n",
        "      K[i][w]=max(val[i-1]+ K[i-1][w-wt[i-1]],K[i-1][w]) \n",
        "   else:\n",
        "      K[i][w]=K[i-1][w]\n",
        "return K[n][W]\n",
        "val= [5,3,4]\n",
        "wt=[3,2,1]\n",
        "W=5\n",
        "n=len(val)\n",
        "print(\"Maximum value knapsack of capacity W: \",knapSack(W, wt, val, n))"
      ],
      "execution_count": null,
      "outputs": []
    },
    {
      "cell_type": "markdown",
      "metadata": {
        "id": "pAK1MrrOjuwh"
      },
      "source": [
        "# **Exercise - 17&18–Data Analysis**"
      ]
    },
    {
      "cell_type": "markdown",
      "metadata": {
        "id": "lBJ6RHYQjtku"
      },
      "source": [
        "AIM:"
      ]
    },
    {
      "cell_type": "markdown",
      "metadata": {
        "id": "Vr9erGvk884y"
      },
      "source": [
        "1. Data analysis or manipulation using the following packages                                                                        \n",
        "a) Numpy b) Pandas\n",
        " a) Scipy b) matplotlib"
      ]
    },
    {
      "cell_type": "markdown",
      "metadata": {
        "id": "x2Cs4zj1j3HV"
      },
      "source": [
        "**DESCRIPTION:**\n",
        "\n",
        "Learn how to analyze data using Python. ... It includes following parts: Data Analysis libraries: will learn to use Pandas, Numpy and Scipy libraries to work with a sample dataset. We will introduce you to pandas, an open-source library, and we will use it to load, manipulate, analyze, and visualize cool datasets.\n",
        "\n",
        "**SciPy** is a free and open-source Python library used for scientific computing and technical computing. It is a collection of mathematical algorithms and convenience functions built on the NumPy extension of Python\n",
        "\n",
        "**NumPy** is the fundamental package for scientific computing in Python. ... NumPy arrays facilitate advanced mathematical and other types of operations on large numbers of data.\n",
        "\n",
        "**Matplotlib** is a plotting library for the Python programming language and its numerical mathematics extension NumPy. It provides an object-oriented API for embedding plots into applications using general-purpose GUI toolkits like Tkinter, wxPython, Qt, or GTK\n",
        "\n",
        "**Pandas** is an open source Python package that is most widely used for data science/data analysis and machine learning tasks. It is built on top of another package named Numpy, which provides support for multi-dimensional arrays.\n",
        "\n",
        "**Scikit-learn** is probably the most useful library for machine learning in Python. The sklearn library contains a lot of efficient tools for machine learning and statistical modeling including classification, regression, clustering and dimensionality reduction.\n",
        "\n",
        "**Seaborn** is a library in Python predominantly used for making statistical graphics. Seaborn is a data visualization library built on top of matplotlib and closely integrated with pandas data structures in Python\n",
        "\n"
      ]
    },
    {
      "cell_type": "code",
      "metadata": {
        "id": "YYLThRrF9Bdk"
      },
      "source": [
        ""
      ],
      "execution_count": null,
      "outputs": []
    },
    {
      "cell_type": "code",
      "metadata": {
        "colab": {
          "base_uri": "https://localhost:8080/"
        },
        "id": "OorCvn_x9Be4",
        "outputId": "5d5f0289-46b9-4298-8d77-f3b0c93d2a84"
      },
      "source": [
        " \n",
        "import sys\n",
        " \n",
        "print('Python:{}'.format(sys.version))\n",
        " \n",
        "#scipy\n",
        " \n",
        "import scipy\n",
        "print('scipy: {}'.format(scipy.__version__))\n",
        " \n",
        "#numpy \n",
        " \n",
        "import numpy\n",
        "print('numpy:{}'.format(numpy.__version__))\n",
        " \n",
        "#matplotlib \n",
        " \n",
        "import matplotlib\n",
        "print('matplotlib:{}'.format(matplotlib.__version__))\n",
        " \n",
        "#pandas \n",
        " \n",
        "import pandas\n",
        "print('pandas:{}'.format(pandas. __version__))\n",
        " \n",
        "#scikit-learn\n",
        " \n",
        "import sklearn\n",
        "print('sklearn:{}'.format(sklearn.__version__))\n",
        " \n",
        "import seaborn\n",
        "print('seaborn: {}'.format(seaborn.__version__)) \n",
        " \n",
        "import urllib\n",
        "print('urlib:{}'.format(urllib.__name__)) \n",
        " \n",
        "import csv\n",
        "print('csv: {}'.format(csv.__version__))"
      ],
      "execution_count": null,
      "outputs": [
        {
          "output_type": "stream",
          "text": [
            "Python:3.7.11 (default, Jul  3 2021, 18:01:19) \n",
            "[GCC 7.5.0]\n",
            "scipy: 1.4.1\n",
            "numpy:1.19.5\n",
            "matplotlib:3.2.2\n",
            "pandas:1.1.5\n",
            "sklearn:0.22.2.post1\n",
            "seaborn: 0.11.1\n",
            "urlib:urllib\n",
            "csv: 1.0\n"
          ],
          "name": "stdout"
        }
      ]
    },
    {
      "cell_type": "markdown",
      "metadata": {
        "id": "s7TgTrafj6bl"
      },
      "source": [
        "# **NumPy**"
      ]
    },
    {
      "cell_type": "code",
      "metadata": {
        "colab": {
          "base_uri": "https://localhost:8080/"
        },
        "id": "PHoWu3Mrj9Ye",
        "outputId": "625db7cf-6672-4f85-bee5-9b6caab797f7"
      },
      "source": [
        "import numpy as np\n",
        "a=np.array([0,1,2])\n",
        "print(type(a))\n",
        "print(a.shape)\n",
        "print(a[0])\n",
        "print(a[1])\n",
        "print(a[2])\n",
        "a[0]=5\n",
        "print(a)\n"
      ],
      "execution_count": null,
      "outputs": [
        {
          "output_type": "stream",
          "name": "stdout",
          "text": [
            "<class 'numpy.ndarray'>\n",
            "(3,)\n",
            "0\n",
            "1\n",
            "2\n",
            "[5 1 2]\n"
          ]
        }
      ]
    },
    {
      "cell_type": "code",
      "metadata": {
        "colab": {
          "base_uri": "https://localhost:8080/"
        },
        "id": "GA0TuqE0kAEV",
        "outputId": "840fbcbc-57fe-4616-da05-10d2c3de76fe"
      },
      "source": [
        "import numpy as np\n",
        "b=np.array([[0,1,2],[3,4,5]])\n",
        "print(b.shape)\n",
        "print(b)\n",
        "print(b[0,0],b[0,1],b[1,0])\n"
      ],
      "execution_count": null,
      "outputs": [
        {
          "output_type": "stream",
          "name": "stdout",
          "text": [
            "(2, 3)\n",
            "[[0 1 2]\n",
            " [3 4 5]]\n",
            "0 1 3\n"
          ]
        }
      ]
    },
    {
      "cell_type": "code",
      "metadata": {
        "colab": {
          "base_uri": "https://localhost:8080/"
        },
        "id": "HUq8Oac_kD1V",
        "outputId": "f34656ac-b39d-4b2a-a7ab-34d74b9d30ea"
      },
      "source": [
        "import numpy as np\n",
        "a=np.zeros((3,3))\n",
        "print(a)"
      ],
      "execution_count": null,
      "outputs": [
        {
          "output_type": "stream",
          "name": "stdout",
          "text": [
            "[[0. 0. 0.]\n",
            " [0. 0. 0.]\n",
            " [0. 0. 0.]]\n"
          ]
        }
      ]
    },
    {
      "cell_type": "code",
      "metadata": {
        "colab": {
          "base_uri": "https://localhost:8080/"
        },
        "id": "tHA5C_UfkHZm",
        "outputId": "c1be481d-05ff-4278-c796-4bf6dd15fafe"
      },
      "source": [
        "import numpy as np\n",
        "b=np.ones((2,2))\n",
        "print(b)"
      ],
      "execution_count": null,
      "outputs": [
        {
          "output_type": "stream",
          "name": "stdout",
          "text": [
            "[[1. 1.]\n",
            " [1. 1.]]\n"
          ]
        }
      ]
    },
    {
      "cell_type": "code",
      "metadata": {
        "colab": {
          "base_uri": "https://localhost:8080/"
        },
        "id": "6RMRyRUhkLbi",
        "outputId": "9e5799ac-18c3-44f4-f753-f0093c556ef4"
      },
      "source": [
        "import numpy as np\n",
        "c=np.full((3,3),7)\n",
        "print(c)"
      ],
      "execution_count": null,
      "outputs": [
        {
          "output_type": "stream",
          "name": "stdout",
          "text": [
            "[[7 7 7]\n",
            " [7 7 7]\n",
            " [7 7 7]]\n"
          ]
        }
      ]
    },
    {
      "cell_type": "code",
      "metadata": {
        "colab": {
          "base_uri": "https://localhost:8080/"
        },
        "id": "gMDJMj40kN6e",
        "outputId": "c3f54868-c834-485e-b458-bdfc10d890bc"
      },
      "source": [
        "import numpy as np\n",
        "d=np.random.random((3,3))\n",
        "print(d)"
      ],
      "execution_count": null,
      "outputs": [
        {
          "output_type": "stream",
          "name": "stdout",
          "text": [
            "[[0.401517   0.52941843 0.0896264 ]\n",
            " [0.93658435 0.73816584 0.57060336]\n",
            " [0.05051182 0.09028192 0.22542161]]\n"
          ]
        }
      ]
    },
    {
      "cell_type": "code",
      "metadata": {
        "colab": {
          "base_uri": "https://localhost:8080/"
        },
        "id": "NHQ5yEMlkQE1",
        "outputId": "2381a440-dc2a-44c3-f284-8e06d5c0cdb6"
      },
      "source": [
        "import numpy as np\n",
        "e=np.eye(3)\n",
        "print(e)"
      ],
      "execution_count": null,
      "outputs": [
        {
          "output_type": "stream",
          "name": "stdout",
          "text": [
            "[[1. 0. 0.]\n",
            " [0. 1. 0.]\n",
            " [0. 0. 1.]]\n"
          ]
        }
      ]
    },
    {
      "cell_type": "code",
      "metadata": {
        "colab": {
          "base_uri": "https://localhost:8080/"
        },
        "id": "dVcRi4jfkTrV",
        "outputId": "e75dd060-3032-49e1-ab9e-d6c33ca4d76b"
      },
      "source": [
        "import numpy as np\n",
        "f=np.array([2,3,1,0])\n",
        "print(f)"
      ],
      "execution_count": null,
      "outputs": [
        {
          "output_type": "stream",
          "name": "stdout",
          "text": [
            "[2 3 1 0]\n"
          ]
        }
      ]
    },
    {
      "cell_type": "code",
      "metadata": {
        "colab": {
          "base_uri": "https://localhost:8080/"
        },
        "id": "mmwdsUdwkV84",
        "outputId": "5b8ce72d-506c-48e2-c3a5-5fb1678b80a9"
      },
      "source": [
        "import numpy as np\n",
        "g=np.arange(2,10)\n",
        "print(g)"
      ],
      "execution_count": null,
      "outputs": [
        {
          "output_type": "stream",
          "name": "stdout",
          "text": [
            "[2 3 4 5 6 7 8 9]\n"
          ]
        }
      ]
    },
    {
      "cell_type": "code",
      "metadata": {
        "colab": {
          "base_uri": "https://localhost:8080/"
        },
        "id": "RcXgd3rZkYd4",
        "outputId": "d08b1748-029a-4c8c-eeed-3bef6e84e8f0"
      },
      "source": [
        "import numpy as np\n",
        "h=np.array([[0,1,2.0],[0,0,0],(1+1j,3.,2.)])\n",
        "print(h)"
      ],
      "execution_count": null,
      "outputs": [
        {
          "output_type": "stream",
          "name": "stdout",
          "text": [
            "[[0.+0.j 1.+0.j 2.+0.j]\n",
            " [0.+0.j 0.+0.j 0.+0.j]\n",
            " [1.+1.j 3.+0.j 2.+0.j]]\n"
          ]
        }
      ]
    },
    {
      "cell_type": "code",
      "metadata": {
        "colab": {
          "base_uri": "https://localhost:8080/"
        },
        "id": "PJQZpxNEkbql",
        "outputId": "479aed01-a94b-4237-ff02-318356f70b58"
      },
      "source": [
        "import numpy as np\n",
        "i=np.arange(1,8,dtype=np.float)\n",
        "print(i)"
      ],
      "execution_count": null,
      "outputs": [
        {
          "output_type": "stream",
          "name": "stdout",
          "text": [
            "[1. 2. 3. 4. 5. 6. 7.]\n"
          ]
        }
      ]
    },
    {
      "cell_type": "code",
      "metadata": {
        "colab": {
          "base_uri": "https://localhost:8080/"
        },
        "id": "G_Rgr8vGkfdF",
        "outputId": "50741ee5-2525-4327-d27f-f2b34dd527ea"
      },
      "source": [
        "import numpy as np\n",
        "j=np.linspace(2.,4., 5)\n",
        "print(j)"
      ],
      "execution_count": null,
      "outputs": [
        {
          "output_type": "stream",
          "name": "stdout",
          "text": [
            "[2.  2.5 3.  3.5 4. ]\n"
          ]
        }
      ]
    },
    {
      "cell_type": "code",
      "metadata": {
        "colab": {
          "base_uri": "https://localhost:8080/"
        },
        "id": "FsOxLxnQki3O",
        "outputId": "cbb31626-81b0-4cb9-de74-2c47a0a20f11"
      },
      "source": [
        "import numpy as np\n",
        "k=np.indices((3,3))\n",
        "print(k)"
      ],
      "execution_count": null,
      "outputs": [
        {
          "output_type": "stream",
          "name": "stdout",
          "text": [
            "[[[0 0 0]\n",
            "  [1 1 1]\n",
            "  [2 2 2]]\n",
            "\n",
            " [[0 1 2]\n",
            "  [0 1 2]\n",
            "  [0 1 2]]]\n"
          ]
        }
      ]
    },
    {
      "cell_type": "code",
      "metadata": {
        "colab": {
          "base_uri": "https://localhost:8080/"
        },
        "id": "MnyCoHbjklpY",
        "outputId": "7736049a-41e0-422a-9cc6-0a98afe28aba"
      },
      "source": [
        "import numpy as np\n",
        "x=np.array([0,1])\n",
        "y=np.array([2.0,3.0])\n",
        "z=np.array([5,6], dtype=np.int64)\n",
        "print(x.dtype,y.dtype,z.dtype)"
      ],
      "execution_count": null,
      "outputs": [
        {
          "output_type": "stream",
          "name": "stdout",
          "text": [
            "int64 float64 int64\n"
          ]
        }
      ]
    },
    {
      "cell_type": "code",
      "metadata": {
        "colab": {
          "base_uri": "https://localhost:8080/"
        },
        "id": "ZoV_WmA8koLm",
        "outputId": "d765685e-f972-48e3-9679-d5f43e63e3b0"
      },
      "source": [
        "import numpy as np\n",
        "x=np.array([5,6,7,8,9])\n",
        "print(x[1:7:2])\n",
        "print(x[-2:5])\n",
        "print(x[-1:1:-1])"
      ],
      "execution_count": null,
      "outputs": [
        {
          "output_type": "stream",
          "name": "stdout",
          "text": [
            "[6 8]\n",
            "[8 9]\n",
            "[9 8 7]\n"
          ]
        }
      ]
    },
    {
      "cell_type": "code",
      "metadata": {
        "colab": {
          "base_uri": "https://localhost:8080/"
        },
        "id": "KWaSqfdWksXw",
        "outputId": "034c5268-1970-4c2d-b13f-782e55cd656a"
      },
      "source": [
        "import numpy as np\n",
        "a=np.array([[1,2],[3,4],[5,6]])\n",
        "print(a>2)\n",
        "print(a[a>2])"
      ],
      "execution_count": null,
      "outputs": [
        {
          "output_type": "stream",
          "name": "stdout",
          "text": [
            "[[False False]\n",
            " [ True  True]\n",
            " [ True  True]]\n",
            "[3 4 5 6]\n"
          ]
        }
      ]
    },
    {
      "cell_type": "code",
      "metadata": {
        "colab": {
          "base_uri": "https://localhost:8080/"
        },
        "id": "OpIw7POIk72d",
        "outputId": "e0a0f2b4-b4f9-4776-bc73-3e8bad18ac41"
      },
      "source": [
        "import numpy as np\n",
        "x=np.array([[1,2],[3,4],[5,6]])\n",
        "y=np.array([[7,8],[9,10],[11,12]])\n",
        "print(x+y)\n",
        "print(np.add(x,y))\n",
        "print(x-y)\n",
        "print(np.subtract(x,y))"
      ],
      "execution_count": null,
      "outputs": [
        {
          "output_type": "stream",
          "name": "stdout",
          "text": [
            "[[ 8 10]\n",
            " [12 14]\n",
            " [16 18]]\n",
            "[[ 8 10]\n",
            " [12 14]\n",
            " [16 18]]\n",
            "[[-6 -6]\n",
            " [-6 -6]\n",
            " [-6 -6]]\n",
            "[[-6 -6]\n",
            " [-6 -6]\n",
            " [-6 -6]]\n"
          ]
        }
      ]
    },
    {
      "cell_type": "code",
      "metadata": {
        "colab": {
          "base_uri": "https://localhost:8080/"
        },
        "id": "6DTEA5NWk9Mu",
        "outputId": "01405571-2dfb-4df7-da47-0740f8d1fb72"
      },
      "source": [
        "import numpy as np\n",
        "x=np.array([[1,2],[3,4],[5,6]])\n",
        "y=np.array([[7,8],[9,10],[11,12]])\n",
        "print(np.multiply(x,y))\n",
        "print(x*y)"
      ],
      "execution_count": null,
      "outputs": [
        {
          "output_type": "stream",
          "name": "stdout",
          "text": [
            "[[ 7 16]\n",
            " [27 40]\n",
            " [55 72]]\n",
            "[[ 7 16]\n",
            " [27 40]\n",
            " [55 72]]\n"
          ]
        }
      ]
    },
    {
      "cell_type": "code",
      "metadata": {
        "colab": {
          "base_uri": "https://localhost:8080/"
        },
        "id": "7UWbcJ2SlDvt",
        "outputId": "109b0b24-dbad-4aff-b2ef-996eb75917fd"
      },
      "source": [
        "import numpy as np\n",
        "x=np.array([[1,2],[3,4],[5,6]])\n",
        "y=np.array([[7,8],[9,10],[11,12]])\n",
        "print(np.divide(x,y))\n",
        "print(x/y)"
      ],
      "execution_count": null,
      "outputs": [
        {
          "output_type": "stream",
          "name": "stdout",
          "text": [
            "[[0.14285714 0.25      ]\n",
            " [0.33333333 0.4       ]\n",
            " [0.45454545 0.5       ]]\n",
            "[[0.14285714 0.25      ]\n",
            " [0.33333333 0.4       ]\n",
            " [0.45454545 0.5       ]]\n"
          ]
        }
      ]
    },
    {
      "cell_type": "code",
      "metadata": {
        "colab": {
          "base_uri": "https://localhost:8080/"
        },
        "id": "roYgIdfLlHP9",
        "outputId": "27dd4da4-0bfa-419b-a46c-e5296d460e7c"
      },
      "source": [
        "import numpy as np\n",
        "x=np.array([[1,2],[3,4],[5,6]])\n",
        "print(np.sqrt(x))"
      ],
      "execution_count": null,
      "outputs": [
        {
          "output_type": "stream",
          "name": "stdout",
          "text": [
            "[[1.         1.41421356]\n",
            " [1.73205081 2.        ]\n",
            " [2.23606798 2.44948974]]\n"
          ]
        }
      ]
    },
    {
      "cell_type": "code",
      "metadata": {
        "colab": {
          "base_uri": "https://localhost:8080/"
        },
        "id": "CrENjp-4lJa4",
        "outputId": "36a0273d-c446-4e50-eed3-331399590363"
      },
      "source": [
        "import numpy as np\n",
        "a=np.array([9,10])\n",
        "b=np.array([11,12])\n",
        "print(a.dot(b))\n",
        "print(np.dot(a,b))"
      ],
      "execution_count": null,
      "outputs": [
        {
          "output_type": "stream",
          "name": "stdout",
          "text": [
            "219\n",
            "219\n"
          ]
        }
      ]
    },
    {
      "cell_type": "code",
      "metadata": {
        "colab": {
          "base_uri": "https://localhost:8080/"
        },
        "id": "-xufY3_qlNBN",
        "outputId": "266a3c75-bab9-457f-b661-6c2a784e92dc"
      },
      "source": [
        "import numpy as np\n",
        "a=np.array([9,10])\n",
        "x=np.array([[1,2],[3,4]])\n",
        "print(x.dot(a))\n",
        "print(np.dot(x,a))"
      ],
      "execution_count": null,
      "outputs": [
        {
          "output_type": "stream",
          "name": "stdout",
          "text": [
            "[29 67]\n",
            "[29 67]\n"
          ]
        }
      ]
    },
    {
      "cell_type": "code",
      "metadata": {
        "colab": {
          "base_uri": "https://localhost:8080/"
        },
        "id": "sqBy4akclQCz",
        "outputId": "7ce17f62-78fa-4471-bd14-7830b92c6e80"
      },
      "source": [
        "import numpy as np\n",
        "x=np.array([[1,2],[3,4]])\n",
        "y=np.array([[5,6],[7,8]])\n",
        "print(x.dot(y))\n",
        "print(np.dot(x,y))"
      ],
      "execution_count": null,
      "outputs": [
        {
          "output_type": "stream",
          "name": "stdout",
          "text": [
            "[[19 22]\n",
            " [43 50]]\n",
            "[[19 22]\n",
            " [43 50]]\n"
          ]
        }
      ]
    },
    {
      "cell_type": "code",
      "metadata": {
        "colab": {
          "base_uri": "https://localhost:8080/"
        },
        "id": "ae5zBr0YlTGH",
        "outputId": "96958835-0667-4d06-d565-9a9694a8772e"
      },
      "source": [
        "import numpy as np\n",
        "x=np.array([[1,2],[3,4]])\n",
        "print(np.sum(x))\n",
        "print(np.sum(x,axis=0))\n",
        "print(np.sum(x,axis=1))"
      ],
      "execution_count": null,
      "outputs": [
        {
          "output_type": "stream",
          "name": "stdout",
          "text": [
            "10\n",
            "[4 6]\n",
            "[3 7]\n"
          ]
        }
      ]
    },
    {
      "cell_type": "code",
      "metadata": {
        "colab": {
          "base_uri": "https://localhost:8080/"
        },
        "id": "KBBt_Ci8lVoG",
        "outputId": "5e47fc1d-a803-4ded-8406-2c2b967b3517"
      },
      "source": [
        "import numpy as np\n",
        "x=np.array([[1,2],[3,4]])\n",
        "print(x)\n",
        "print(x.T)\n"
      ],
      "execution_count": null,
      "outputs": [
        {
          "output_type": "stream",
          "name": "stdout",
          "text": [
            "[[1 2]\n",
            " [3 4]]\n",
            "[[1 3]\n",
            " [2 4]]\n"
          ]
        }
      ]
    },
    {
      "cell_type": "code",
      "metadata": {
        "colab": {
          "base_uri": "https://localhost:8080/"
        },
        "id": "Ry4qBh1PlYUt",
        "outputId": "2c952f4a-bd69-44cb-98fe-a4ffe2dc74a5"
      },
      "source": [
        "import numpy as np\n",
        "v=np.array([1,2,3])\n",
        "print(v)\n",
        "print(v.T)"
      ],
      "execution_count": null,
      "outputs": [
        {
          "output_type": "stream",
          "name": "stdout",
          "text": [
            "[1 2 3]\n",
            "[1 2 3]\n"
          ]
        }
      ]
    },
    {
      "cell_type": "code",
      "metadata": {
        "colab": {
          "base_uri": "https://localhost:8080/"
        },
        "id": "VgEpleAsliFe",
        "outputId": "19035b58-ff5a-4521-8722-cb6b31dd82ce"
      },
      "source": [
        "import numpy as np\n",
        "a=np.array([[1,2,3],[4,5,6],[7,8,9]])\n",
        "v=np.array([1,0,1])\n",
        "b=a+v\n",
        "print(b)"
      ],
      "execution_count": null,
      "outputs": [
        {
          "output_type": "stream",
          "name": "stdout",
          "text": [
            "[[ 2  2  4]\n",
            " [ 5  5  7]\n",
            " [ 8  8 10]]\n"
          ]
        }
      ]
    },
    {
      "cell_type": "code",
      "metadata": {
        "colab": {
          "base_uri": "https://localhost:8080/"
        },
        "id": "0LksVlYUlke9",
        "outputId": "a5aafec1-0d05-4db3-a76e-5b7ca81e41aa"
      },
      "source": [
        "import numpy as np\n",
        "x=np.array([[1,2,1],[3,4,1]])\n",
        "print(\"X.T:\\n\",x.T)\n",
        "w=np.array([1,1])\n",
        "print(\"W:\\n\",w)\n",
        "\n",
        "print(\"Final :\\n\",(x.T+w).T)"
      ],
      "execution_count": null,
      "outputs": [
        {
          "output_type": "stream",
          "name": "stdout",
          "text": [
            "X.T:\n",
            " [[1 3]\n",
            " [2 4]\n",
            " [1 1]]\n",
            "W:\n",
            " [1 1]\n",
            "Final :\n",
            " [[2 3 2]\n",
            " [4 5 2]]\n"
          ]
        }
      ]
    },
    {
      "cell_type": "code",
      "metadata": {
        "colab": {
          "base_uri": "https://localhost:8080/"
        },
        "id": "MukwwwFNlnQD",
        "outputId": "5dbda272-e538-41b1-8f92-d9273e1ade48"
      },
      "source": [
        "import numpy as np\n",
        "x=np.array([[1,2,1],[3,4,1]])\n",
        "print(x*2)"
      ],
      "execution_count": null,
      "outputs": [
        {
          "output_type": "stream",
          "name": "stdout",
          "text": [
            "[[2 4 2]\n",
            " [6 8 2]]\n"
          ]
        }
      ]
    },
    {
      "cell_type": "code",
      "metadata": {
        "colab": {
          "base_uri": "https://localhost:8080/"
        },
        "id": "8TbI8eL-lpeS",
        "outputId": "2bd31d1d-802c-460a-c599-9d31b02bd3cb"
      },
      "source": [
        "import numpy as np\n",
        "np.random.rand(3,2)"
      ],
      "execution_count": null,
      "outputs": [
        {
          "output_type": "execute_result",
          "data": {
            "text/plain": [
              "array([[0.00378249, 0.97095093],\n",
              "       [0.52980422, 0.65493417],\n",
              "       [0.92257362, 0.07870021]])"
            ]
          },
          "metadata": {},
          "execution_count": 41
        }
      ]
    },
    {
      "cell_type": "code",
      "metadata": {
        "colab": {
          "base_uri": "https://localhost:8080/"
        },
        "id": "FL9nCtVilsN1",
        "outputId": "95ddeaf5-2fe5-4a42-c29c-f3b95f34e15d"
      },
      "source": [
        "import numpy as np\n",
        "np.random.rand(10)"
      ],
      "execution_count": null,
      "outputs": [
        {
          "output_type": "execute_result",
          "data": {
            "text/plain": [
              "array([0.33094689, 0.92982413, 0.24260286, 0.59310499, 0.51864383,\n",
              "       0.67494204, 0.36736122, 0.39126934, 0.61900115, 0.74831099])"
            ]
          },
          "metadata": {},
          "execution_count": 42
        }
      ]
    },
    {
      "cell_type": "code",
      "metadata": {
        "colab": {
          "base_uri": "https://localhost:8080/"
        },
        "id": "-qXOpBRelvEd",
        "outputId": "fe5dbecc-fdaa-4ca3-e4a1-525a7d19d6ba"
      },
      "source": [
        "import random\n",
        "print (random.randint(0,9))"
      ],
      "execution_count": null,
      "outputs": [
        {
          "output_type": "stream",
          "name": "stdout",
          "text": [
            "7\n"
          ]
        }
      ]
    },
    {
      "cell_type": "markdown",
      "metadata": {
        "id": "4aIUbdt9lzEw"
      },
      "source": [
        "# **Pandas**"
      ]
    },
    {
      "cell_type": "markdown",
      "metadata": {
        "id": "zYE8l_J9l2Vb"
      },
      "source": [
        "# **1.Creating Series**"
      ]
    },
    {
      "cell_type": "code",
      "metadata": {
        "id": "-MpesSBYl4rg",
        "colab": {
          "base_uri": "https://localhost:8080/"
        },
        "outputId": "57c7ac0a-5737-4f20-e652-43b161f58235"
      },
      "source": [
        "import pandas as pd\n",
        "s=pd.Series([1,2,3,4,5],index=['A','B','C','D','E'])\n",
        "s"
      ],
      "execution_count": null,
      "outputs": [
        {
          "output_type": "execute_result",
          "data": {
            "text/plain": [
              "A    1\n",
              "B    2\n",
              "C    3\n",
              "D    4\n",
              "E    5\n",
              "dtype: int64"
            ]
          },
          "metadata": {},
          "execution_count": 44
        }
      ]
    },
    {
      "cell_type": "markdown",
      "metadata": {
        "id": "6H4aG_rIWUeI"
      },
      "source": [
        " 2.Data Frames\n",
        "import pandas as pd \n",
        "data={'Gen':['F','M','M'],'EiD':['E01','E02','E03'],'Age':[25,45,38]}\n",
        "df=pd.DataFrame(data,columns=['EiD','Age','Gen']) \n",
        "print(df)\n",
        "EiD Age Gen\n",
        "0 E01 25 F\n",
        "1 E02 45 M\n",
        "2 E03 38 M\n",
        "import pandas as pd\n",
        "from numpy import loadtxt\n",
        "from urllib.request import urlopen \n",
        "url='https://raw.githubusercontent.com/jbrownlee/datasets/master/pima-indians-diabetes.data.csv'\n",
        "raw_data=pd.read_csv(urlopen(url)) \n",
        "raw_data.shape\n",
        "(767, 9)\n",
        "raw_data.head()\n",
        "6 148 72 35 0 33.6 0.627 50 1\n",
        "0 1 85 66 29 0 26.6 0.351 31 0\n",
        "1 8 183 64 0 0 23.3 0.672 32 1\n",
        "2 1 89 66 23 94 28.1 0.167 21 0\n",
        "3 0 137 40 35 168 43.1 2.288 33 1\n",
        "4 5 116 74 0 0 25.6 0.201 30 0\n",
        "raw_data.tail()\n",
        "6 148 72 35 0 33.6 0.627 50 1\n",
        "762 10 101 76 48 180 32.9 0.171 63 0\n",
        "763 2 122 70 27 0 36.8 0.340 27 0\n",
        "764 5 121 72 23 112 26.2 0.245 30 0\n",
        "765 1 126 60 0 0 30.1 0.349 47 1\n",
        "766 1 93 70 31 0 30.4 0.315 23 0"
      ]
    },
    {
      "cell_type": "markdown",
      "metadata": {
        "id": "1E3zAsORWuLz"
      },
      "source": [
        "raw_data.head(25)"
      ]
    },
    {
      "cell_type": "markdown",
      "metadata": {
        "id": "d_qOmEz_XF76"
      },
      "source": [
        ""
      ]
    }
  ]
}